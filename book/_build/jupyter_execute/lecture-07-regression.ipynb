{
 "cells": [
  {
   "cell_type": "markdown",
   "id": "ae5249ff",
   "metadata": {},
   "source": [
    "# Chapter 7: Orders of Reaction and Linear Regression Analysis\n",
    "\n",
    "## Learning Objectives\n",
    "\n",
    "By the end of this lecture, you should be able to:\n",
    "\n",
    "1. **Identify reaction orders and rate laws** based on experimental data and understand their significance in chemical kinetics.\n",
    "2. **Perform linear regression analysis** to determine reaction rate constants using Python and NumPy.\n",
    "3. **Use integrated rate laws** to linearize reaction data and apply regression techniques to find rate constants.\n",
    "4. **Visualize and interpret reaction kinetics** by plotting concentration vs. time and log-concentration vs. time graphs.\n",
    "\n",
    "## Introduction\n",
    "\n",
    "Recall that in Lecture 4 we determined how to use numerical methods to compute the equilibrium progress of a chemical reaction. This prediction corresponded to the final state of the reaction, but we did not consider the rate at which the reaction reached equilibrium. In this lecture, we will discuss how to determine the rate constant of a reaction using linear regression analysis.\n",
    "\n",
    "### A Refresher or Primer on Rate Laws\n",
    "\n",
    "The rate of a chemical reaction is the rate at which the reactants are consumed and the products are formed. It is described by a \"rate law,\" which is an equation that relates the rate of a reaction to the concentration of the various chemical species present at time $t$. Rate laws are determined experimentally and cannot, in general, be derived from the stoichiometry of the reaction. Rate laws are typically expressed as:\n",
    "\n",
    "$$\n",
    "\\text{rate} = k[A]^m[B]^n\n",
    "$$\n",
    "\n",
    "where $k$ is the \"rate constant,\" $m$ and $n$ are the \"orders of the reaction\" with respect to reactants $A$ and $B$, respectively, and $[A]$ and $[B]$ are the concentrations of reactants $A$ and $B$, respectively.\n",
    "\n",
    "### Orders of Reaction\n",
    "\n",
    "The \"order of reaction\" with respect to a reactant is the power to which the concentration of that reactant is raised in the rate law. The overall order of the reaction is the sum of the orders of the reaction with respect to each reactant. The order of reaction is determined experimentally and is not related to the stoichiometry of the reaction.\n",
    "\n",
    "| Rate law | Order | Units of $k$ | Integrated Rate Law |\n",
    "|----------|-------|--------------| ---------------------|\n",
    "| $\\text{rate} = k$ | 0 | M/s | $[A] = -kt + [A]_0$ |\n",
    "| $\\text{rate} = k[A]$ | 1 | 1/s | $[A] = [A]_0e^{-kt}$ |\n",
    "| $\\text{rate} = k[A]^2$ | 2 | 1/(M s) | $1/[A] = kt + 1/[A]_0$ |\n",
    "| $\\text{rate} = k[A][B]$ | 2 | 1/(M s) | $1/[A] = kt + 1/[A]_0$ (assuming $[A]_0 = [B]_0$) |\n",
    "| $\\text{rate} = k[A]^{1/2}$ | 1/2 | M$^{1/2}$/s | $[A]^{1/2} = [A]_0^{1/2} - \\frac{k}{2}t$ |\n",
    "| $\\text{rate} = k[A][B]^{1/2}$ | 3/2 | M$^{-1/2}$ s$^{-1}$ | $[A] = [A]_0 e^{-k't}$ (pseudo-first order approximation*) |\n",
    "\n",
    "*The pseudo-first order approximation can be used when [B] is much greater than [A].\n",
    "\n",
    "## Determining the Rate Constant of a Reaction\n",
    "\n",
    "Imagine that your lab has purchased a container of 1.24 M N$_2$O$_5$(g). You retrieved the container from the freezer and were about to start the experiment when you realized you had a meeting with your PI. You left the container on the bench and forgot about it. When you returned to the lab, you found that the N$_2$O$_5$(g) had decomposed. Realizing the importance of the decomposition kinetics of N$_2$O$_5$(g) on the experiment you were planning, you suggested to your PI that you could determine the rate constant of the decomposition reaction. Your PI agreed and asked you to determine the rate constant of the decomposition of N$_2$O$_5$(g) at 318 K. You collected the following data:\n",
    "\n",
    "| Time (min) | [N$_2$O$_5$] (M) |\n",
    "|----------|-------------------|\n",
    "| 0 | 1.24 |\n",
    "| 10 | 0.92 |\n",
    "| 20 | 0.68 |\n",
    "| 30 | 0.50 |\n",
    "| 40 | 0.37 |\n",
    "| 50 | 0.28 |\n",
    "| 60 | 0.20 |\n",
    "| 70 | 0.15 |\n",
    "| 80 | 0.11 |\n",
    "| 90 | 0.08 |\n",
    "| 100 | 0.06 |\n",
    "\n",
    "Let's plot the data using matplotlib and numpy to determine how the concentration of N$_2$O$_5$(g) changes with time."
   ]
  },
  {
   "cell_type": "code",
   "execution_count": 1,
   "id": "9b2330e3",
   "metadata": {},
   "outputs": [
    {
     "ename": "ModuleNotFoundError",
     "evalue": "No module named 'numpy'",
     "output_type": "error",
     "traceback": [
      "\u001b[1;31m---------------------------------------------------------------------------\u001b[0m",
      "\u001b[1;31mModuleNotFoundError\u001b[0m                       Traceback (most recent call last)",
      "Cell \u001b[1;32mIn[1], line 3\u001b[0m\n\u001b[0;32m      1\u001b[0m \u001b[38;5;66;03m# Plot the concentration of N2O5(g) as a function of time\u001b[39;00m\n\u001b[1;32m----> 3\u001b[0m \u001b[38;5;28;01mimport\u001b[39;00m\u001b[38;5;250m \u001b[39m\u001b[38;5;21;01mnumpy\u001b[39;00m\u001b[38;5;250m \u001b[39m\u001b[38;5;28;01mas\u001b[39;00m\u001b[38;5;250m \u001b[39m\u001b[38;5;21;01mnp\u001b[39;00m\n\u001b[0;32m      4\u001b[0m \u001b[38;5;28;01mimport\u001b[39;00m\u001b[38;5;250m \u001b[39m\u001b[38;5;21;01mmatplotlib\u001b[39;00m\u001b[38;5;21;01m.\u001b[39;00m\u001b[38;5;21;01mpyplot\u001b[39;00m\u001b[38;5;250m \u001b[39m\u001b[38;5;28;01mas\u001b[39;00m\u001b[38;5;250m \u001b[39m\u001b[38;5;21;01mplt\u001b[39;00m\n\u001b[0;32m      6\u001b[0m \u001b[38;5;66;03m# Data\u001b[39;00m\n",
      "\u001b[1;31mModuleNotFoundError\u001b[0m: No module named 'numpy'"
     ]
    }
   ],
   "source": [
    "# Plot the concentration of N2O5(g) as a function of time\n",
    "\n",
    "import numpy as np\n",
    "import matplotlib.pyplot as plt\n",
    "\n",
    "# Data\n",
    "time = np.array([0, 10, 20, 30, 40, 50, 60, 70, 80, 90, 100])\n",
    "concentration = np.array([1.24, 0.92, 0.68, 0.50, 0.37, 0.28, 0.20, 0.15, 0.11, 0.08, 0.06])\n",
    "\n",
    "# Plot\n",
    "plt.plot(time, concentration, 'ro-')\n",
    "plt.xlabel('Time (s)')\n",
    "plt.ylabel('Concentration of N$_2$O$_5$ (mol/L)')\n",
    "plt.title('Decomposition of N$_2$O$_5$(g)')\n",
    "plt.show()"
   ]
  },
  {
   "cell_type": "markdown",
   "id": "6d35e2f9",
   "metadata": {},
   "source": [
    "The concentration of N$_2$O$_5$(g) as a function of time shows a clear exponential decay. This suggests that the decomposition of N$_2$O$_5$(g) is a first-order reaction. The rate law for a first-order reaction is:\n",
    "\n",
    "$$\n",
    "\\text{rate} = k[N_2O_5]\n",
    "$$\n",
    "\n",
    "where $k$ is the rate constant and $[N_2O_5]$ is the concentration of N$_2$O$_5$(g). The integrated rate law for a first-order reaction is:\n",
    "\n",
    "$$\n",
    "[N_2O_5] = [N_2O_5]_0 e^{-kt}\n",
    "$$\n",
    "\n",
    "where $[N_2O_5]_0$ is the initial concentration of N$_2$O$_5$(g) and $t$ is the time. Alternatively, we can write the integrated rate law as:\n",
    "\n",
    "$$\n",
    "\\ln([N_2O_5]) = \\ln([N_2O_5]_0) - kt\n",
    "$$\n",
    "\n",
    "This equation is in the form of a linear equation, $y = mx + b$, where $y = \\ln([N_2O_5])$, $m = -k$, $x = t$, and $b = \\ln([N_2O_5]_0)$. We can use linear regression analysis to determine the rate constant of the reaction.\n",
    "\n",
    "## Linear Regression Analysis\n",
    "\n",
    "Linear regression analysis is a statistical method used to determine the relationship between two variables. In this case, we will use linear regression analysis to determine the rate constant of the decomposition of N$_2$O$_5$(g). We will focus on a type of linear regression called ordinary least squares (OLS).\n",
    "\n",
    "### Ordinary Least Squares\n",
    "\n",
    "OLS is a method used to estimate the parameters of a linear regression model. The goal of OLS is to minimize the sum of the squared differences between the observed values and the predicted values. The equation for a generic linear regression model with one independent variable is:\n",
    "\n",
    "$$\n",
    "y_i = \\beta_0 + \\beta_1 x_i + \\epsilon_i\n",
    "$$\n",
    "\n",
    "where $i$ is the index of the data points [for example, the time points in our N$_2$O$_5$(g) decomposition experiment], $y_i$ is the dependent variable [for example, the concentration of N$_2$O$_5$(g)], $\\beta_0$ is the intercept, $\\beta_1$ is the slope, $x_i$ is the independent variable [for example, time], and $\\epsilon_i$ is the error term. The goal of OLS is to minimize the sum of the squared differences between the observed values and the predicted values. We can do this by rewriting the equation in terms of the error term:\n",
    "\n",
    "$$\n",
    "\\epsilon_i = y_i - \\beta_0 - \\beta_1 x_i\n",
    "$$\n",
    "\n",
    "The sum of the squared errors is:\n",
    "\n",
    "$$\n",
    "\\text{SSE} = \\sum_{i=1}^{n} \\epsilon_i^2 = \\sum_{i=1}^{n} (y_i - \\beta_0 - \\beta_1 x_i)^2\n",
    "$$\n",
    "\n",
    "The OLS estimates of $\\beta_0$ and $\\beta_1$ are:\n",
    "\n",
    "$$\n",
    "\\hat{\\beta}_1 = \\frac{\\sum_{i=1}^{n} (x_i - \\bar{x})(y_i - \\bar{y})}{\\sum_{i=1}^{n} (x_i - \\bar{x})^2}\n",
    "$$\n",
    "\n",
    "$$\n",
    "\\hat{\\beta}_0 = \\bar{y} - \\hat{\\beta}_1 \\bar{x}\n",
    "$$\n",
    "\n",
    "where $\\bar{x}$ and $\\bar{y}$ are the means of the independent and dependent variables, respectively.\n",
    "\n",
    "### A Practical Example\n",
    "\n",
    "Let's apply these formulas to a simple data set. Suppose we have the following data:\n",
    "\n",
    "| $x$ | $y$ |\n",
    "|-----|-----|\n",
    "| 1 | 2 |\n",
    "| 2 | 3 |\n",
    "| 3 | 4 |\n",
    "| 4 | 5 |\n",
    "| 5 | 6 |\n",
    "\n",
    "We can use the formulas above to determine the slope and intercept of the linear regression model. Let's calculate the slope and intercept using numpy and matplotlib. First, let's convert this table in numpy arrays."
   ]
  },
  {
   "cell_type": "code",
   "execution_count": null,
   "id": "c5a40cd7",
   "metadata": {},
   "outputs": [],
   "source": [
    "x = np.array([1, 2, 3, 4, 5])\n",
    "y = np.array([2, 3, 4, 5, 6])"
   ]
  },
  {
   "cell_type": "markdown",
   "id": "91a2e69d",
   "metadata": {},
   "source": [
    "Now, let's write a function that computes the OLS estimates of the slope."
   ]
  },
  {
   "cell_type": "code",
   "execution_count": null,
   "id": "c4a1c86e",
   "metadata": {},
   "outputs": [],
   "source": [
    "def ols_slope(x, y):\n",
    "    x_mean = np.mean(x)\n",
    "    y_mean = np.mean(y)\n",
    "    numerator = np.sum((x - x_mean) * (y - y_mean))\n",
    "    denominator = np.sum((x - x_mean) ** 2)\n",
    "    return numerator / denominator"
   ]
  },
  {
   "cell_type": "markdown",
   "id": "63e430f6",
   "metadata": {},
   "source": [
    "Now, let's write a function that computes the OLS estimates of the intercept."
   ]
  },
  {
   "cell_type": "code",
   "execution_count": null,
   "id": "3f691b16",
   "metadata": {},
   "outputs": [],
   "source": [
    "def ols_intercept(x, y):\n",
    "    x_mean = np.mean(x)\n",
    "    y_mean = np.mean(y)\n",
    "    slope = ols_slope(x, y)\n",
    "    return y_mean - slope * x_mean"
   ]
  },
  {
   "cell_type": "markdown",
   "id": "0eb31f4a",
   "metadata": {},
   "source": [
    "Finally, let's put these together into a function that computes the slope and intercept of the linear regression model using OLS."
   ]
  },
  {
   "cell_type": "code",
   "execution_count": null,
   "id": "fafed07a",
   "metadata": {},
   "outputs": [],
   "source": [
    "def ols(x, y):\n",
    "    slope = ols_slope(x, y)\n",
    "    intercept = ols_intercept(x, y)\n",
    "    return slope, intercept"
   ]
  },
  {
   "cell_type": "markdown",
   "id": "2b654fbd",
   "metadata": {},
   "source": [
    "Now, let's use this function to determine the slope and intercept of the linear regression model for the data set."
   ]
  },
  {
   "cell_type": "code",
   "execution_count": null,
   "id": "4305eabb",
   "metadata": {},
   "outputs": [],
   "source": [
    "slope, intercept = ols(x, y)\n",
    "print(f\"Slope: {slope}\")\n",
    "print(f\"Intercept: {intercept}\")"
   ]
  },
  {
   "cell_type": "markdown",
   "id": "35b059ec",
   "metadata": {},
   "source": [
    "Very cool! We have successfully calculated the slope and intercept of the linear regression model using the OLS method. We can now use these values to determine the rate constant of the decomposition of N$_2$O$_5$(g)."
   ]
  },
  {
   "cell_type": "markdown",
   "id": "b011ea93",
   "metadata": {},
   "source": [
    "## Back to the N$_2$O$_5$(g) Decomposition Experiment\n",
    "\n",
    "Let's use the linear regression analysis to determine the rate constant of the decomposition of N$_2$O$_5$(g). We will use the functions we defined above to calculate the slope and intercept of the linear regression model for the N$_2$O$_5$(g) decomposition data.\n",
    "\n",
    "Now, let's calculate the slope and intercept of the linear regression model for the N$_2$O$_5$(g) decomposition data."
   ]
  },
  {
   "cell_type": "code",
   "execution_count": null,
   "id": "89207f8f",
   "metadata": {},
   "outputs": [],
   "source": [
    "# Compute the natural log of the concentration\n",
    "ln_concentration = np.log(concentration)\n",
    "\n",
    "# Perform linear regression\n",
    "slope, intercept = ols(time, ln_concentration)\n",
    "print(f\"Slope: {slope}\")\n",
    "print(f\"Intercept: {intercept}\")"
   ]
  },
  {
   "cell_type": "markdown",
   "id": "64c6cf12",
   "metadata": {},
   "source": [
    "Since the slope of the linear regression model is equal to $-k$, the rate constant of the decomposition of N$_2$O$_5$(g) is $3.04 \\times 10^{-2}$ min$^{-1}$. Let's plot the linear regression model and the data to visualize the fit."
   ]
  },
  {
   "cell_type": "code",
   "execution_count": null,
   "id": "ef15b3b7",
   "metadata": {},
   "outputs": [],
   "source": [
    "# Plot the linear regression\n",
    "plt.plot(time, ln_concentration, 'ro')\n",
    "plt.plot(time, slope * time + intercept, 'b-')\n",
    "plt.xlabel('Time (s)')\n",
    "plt.ylabel('ln[Concentration of N$_2$O$_5$ (mol/L)]')\n",
    "plt.title('Decomposition of N$_2$O$_5$(g)')\n",
    "plt.show()"
   ]
  },
  {
   "cell_type": "markdown",
   "id": "9233cee7",
   "metadata": {},
   "source": [
    "That's an exceptional fit! Now you can confidently report the rate constant of the decomposition of N$_2$O$_5$(g) to your PI."
   ]
  },
  {
   "cell_type": "markdown",
   "id": "f2dc0172",
   "metadata": {},
   "source": [
    "## Hands-On Activity\n",
    "\n",
    "Your lab plans to start working with NOBr(g) in the near future. You have been asked to determine the rate constant of the decomposition of NOBr(g) at 298 K. You collected the following data:\n",
    "\n",
    "| Time (s) | [NOBr] (M) |\n",
    "|----------|-------------------|\n",
    "| 0 | 0.0250 |\n",
    "| 6.2 | 0.0191 |\n",
    "| 10.8 | 0.0162 |\n",
    "| 14.7 | 0.0144 |\n",
    "| 20.0 | 0.0125 |\n",
    "| 24.6 | 0.0112 |\n",
    "\n",
    "```{admonition} Hint\n",
    "To determine the rate constant, you first need to determine the order of the reaction. You can do this by plotting the data and determining the order of the reaction based on the shape of the curve. Once you have determined the order of the reaction, you can use linear regression analysis to determine the rate constant.\n",
    "```"
   ]
  }
 ],
 "metadata": {
  "jupytext": {
   "text_representation": {
    "extension": ".md",
    "format_name": "myst",
    "format_version": 0.13,
    "jupytext_version": "1.16.4"
   }
  },
  "kernelspec": {
   "display_name": "comp-prob-solv",
   "language": "python",
   "name": "python3"
  },
  "language_info": {
   "codemirror_mode": {
    "name": "ipython",
    "version": 3
   },
   "file_extension": ".py",
   "mimetype": "text/x-python",
   "name": "python",
   "nbconvert_exporter": "python",
   "pygments_lexer": "ipython3",
   "version": "3.10.18"
  },
  "source_map": [
   12,
   74,
   90,
   162,
   165,
   169,
   176,
   180,
   186,
   190,
   195,
   199,
   203,
   207,
   215,
   223,
   227,
   235,
   239
  ]
 },
 "nbformat": 4,
 "nbformat_minor": 5
}