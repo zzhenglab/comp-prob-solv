{
 "cells": [
  {
   "cell_type": "markdown",
   "id": "767fb805",
   "metadata": {},
   "source": [
    "# Chapter 27: Nested Sampling\n",
    "\n",
    "In this lecture, we will discuss the nested sampling algorithm. Nested sampling is a method that can be used to estimate the partition function of a chemical system.\n",
    "\n",
    "## Lecture Objectives\n",
    "\n",
    "By the end of this lecture, you will be able to:\n",
    "\n",
    "- Explain the nested sampling algorithm.\n",
    "- Implement the nested sampling algorithm to estimate the partition function of a simple chemical system.\n",
    "\n",
    "## Partition Function\n",
    "\n",
    "In the lecture on statistical thermodynamics, we discussed the partition function of a chemical system. The partition function is a sum over all possible states of the system, weighted by the Boltzmann factor. The partition function of a classical system is given by:\n",
    "\n",
    "$$\n",
    "Z = \\int e^{-\\beta H(\\mathbf{q}, \\mathbf{p})} d\\mathbf{q} d\\mathbf{p}\n",
    "$$\n",
    "\n",
    "where $H(\\mathbf{q}, \\mathbf{p})$ is the Hamiltonian of the system, $\\mathbf{q}$ are the positions of the particles, $\\mathbf{p}$ are the momenta of the particles, and $\\beta = 1/kT$ is the inverse temperature.\n",
    "\n",
    "## Configuration Integral\n",
    "\n",
    "The integral over the momenta can be performed analytically, leading to:\n",
    "\n",
    "$$\n",
    "Z = \\frac{1}{N! h^{3N}} \\left( \\frac{2\\pi m}{\\beta} \\right)^{3N/2} \\int e^{-\\beta V(\\mathbf{q})} d\\mathbf{q}\n",
    "$$\n",
    "\n",
    "where $N$ is the number of particles, $h$ is the Planck constant, $m$ is the mass of the particles, and $V(\\mathbf{q})$ is the potential energy of the system. The integral over the positions is known as the configuration integral.\n",
    "\n",
    "## Nested Sampling\n",
    "\n",
    "The configuration integral is a high-dimensional integral, which can be difficult to compute. The basic idea behind nested sampling is to transform the high-dimensional integral into a one-dimensional integral, which can be computed using Monte Carlo methods:\n",
    "\n",
    "$$\n",
    "Z_{\\text{config}} = \\int_{-\\infty}^{\\infty} e^{-\\beta E} g(E) dE\n",
    "$$\n",
    "\n",
    "where $E$ is the energy of the system, and $g(E)$ is the density of states at energy $E$. $Z_{\\text{config}}$ can also be written as:\n",
    "\n",
    "$$\n",
    "Z_{\\text{config}} = \\int_{0}^{\\infty} e^{-\\beta E(\\chi)} d\\chi \\approx \\sum_{i=1}^{M} e^{-\\beta E(\\chi_i)} \\Delta \\chi_i\n",
    "$$\n",
    "\n",
    "where $\\chi$ is the cumulative density of states, and $M$ is the number of points used to estimate the integral.\n",
    "\n",
    "```{note}\n",
    "The cumulative density of states $\\chi$ is defined as:\n",
    "\n",
    "$$\n",
    "\\chi(E) = \\int_{0}^{E} g(E') dE'\n",
    "$$\n",
    "\n",
    "The cumulative density of states is a monotonically increasing function of energy because as the energy increases, the number of accessible states increases.\n",
    "\n",
    "Consider an anharmonic oscillator. The number of accessible states is lower at lower energies because the oscillator does not have enough energy to sample past the potential energy minimum. As the energy increases, the number of accessible states increases because the oscillator can sample past the potential energy minimum. At very high energies, the number of accessible states increases more quickly because the oscillator can sample dissociation.\n",
    "```\n",
    "\n",
    "## Nested Sampling Algorithm\n",
    "\n",
    "````{margin}\n",
    "```{note}\n",
    "An infinite cumulative density of states corresponds to a system that can sample all possible states. A cumulative density of states of zero corresponds to a system that is stuck in a single state.\n",
    "```\n",
    "````\n",
    "\n",
    "The nested sampling algorithm is a Monte Carlo method that can be used to estimate the configuration integral by carrying out the sum over the cumulative density of states from $\\infty$ to $0$. The algorithm proceeds as follows:\n",
    "\n",
    "1. Create an initial set of $K$ configurations that uniformly sample the configuration space. Each configuration is called a \"live point\" or \"walker\". The set of live points or walkers is called the \"live set\".\n",
    "2. Compute the energy of each live point and sort the live points by energy.\n",
    "3. Cull the live point with the highest energy and replace it with a new live point that is sampled from the uniform distribution bounded by the energy of the culled live point.\n",
    "4. Repeat steps 2 and 3 until the change in the energy of the culled live point is less than a specified tolerance.\n",
    "\n",
    "The partition function can be estimated as:\n",
    "\n",
    "$$\n",
    "Z = \\sum_{i=1}^{M} e^{-\\beta E(\\chi_i)} \\Delta \\chi_i\n",
    "$$\n",
    "\n",
    "where $M$ is the number of iterations of the nested sampling algorithm. $\\Delta \\chi_i$ is the difference in the cumulative density of states between the $i$-th and $(i-1)$-th iteration:\n",
    "\n",
    "$$\n",
    "\\Delta \\chi_i = \\chi_{i-1} - \\chi_i = \\frac{1}{K + 1} \\left( \\frac{K}{K+1} \\right)^{i}\n",
    "$$\n",
    "\n",
    "## Example: Harmonic Oscillator\n",
    "\n",
    "Let's consider a simple example of a harmonic oscillator. The potential energy of a harmonic oscillator is given by:\n",
    "\n",
    "$$\n",
    "V(x) = \\frac{1}{2} k x^2\n",
    "$$\n",
    "\n",
    "where $k$ is the force constant of the oscillator. The energy of the oscillator is given by:\n",
    "\n",
    "$$\n",
    "E = \\frac{1}{2} k x^2\n",
    "$$\n",
    "\n",
    "Let's implement the nested sampling algorithm to estimate the partition function of a harmonic oscillator.\n",
    "\n",
    "First, we need to import the necessary libraries:"
   ]
  },
  {
   "cell_type": "code",
   "execution_count": 1,
   "id": "a029b9f6",
   "metadata": {},
   "outputs": [
    {
     "ename": "ModuleNotFoundError",
     "evalue": "No module named 'numpy'",
     "output_type": "error",
     "traceback": [
      "\u001b[1;31m---------------------------------------------------------------------------\u001b[0m",
      "\u001b[1;31mModuleNotFoundError\u001b[0m                       Traceback (most recent call last)",
      "Cell \u001b[1;32mIn[1], line 1\u001b[0m\n\u001b[1;32m----> 1\u001b[0m \u001b[38;5;28;01mimport\u001b[39;00m\u001b[38;5;250m \u001b[39m\u001b[38;5;21;01mnumpy\u001b[39;00m\u001b[38;5;250m \u001b[39m\u001b[38;5;28;01mas\u001b[39;00m\u001b[38;5;250m \u001b[39m\u001b[38;5;21;01mnp\u001b[39;00m\n\u001b[0;32m      2\u001b[0m \u001b[38;5;28;01mimport\u001b[39;00m\u001b[38;5;250m \u001b[39m\u001b[38;5;21;01mmatplotlib\u001b[39;00m\u001b[38;5;21;01m.\u001b[39;00m\u001b[38;5;21;01mpyplot\u001b[39;00m\u001b[38;5;250m \u001b[39m\u001b[38;5;28;01mas\u001b[39;00m\u001b[38;5;250m \u001b[39m\u001b[38;5;21;01mplt\u001b[39;00m\n\u001b[0;32m      4\u001b[0m np\u001b[38;5;241m.\u001b[39mrandom\u001b[38;5;241m.\u001b[39mseed(\u001b[38;5;241m42\u001b[39m)\n",
      "\u001b[1;31mModuleNotFoundError\u001b[0m: No module named 'numpy'"
     ]
    }
   ],
   "source": [
    "import numpy as np\n",
    "import matplotlib.pyplot as plt\n",
    "\n",
    "np.random.seed(42)"
   ]
  },
  {
   "cell_type": "markdown",
   "id": "e7c7af79",
   "metadata": {},
   "source": [
    "Next, we define the potential energy of the harmonic oscillator:"
   ]
  },
  {
   "cell_type": "code",
   "execution_count": null,
   "id": "be0733ca",
   "metadata": {},
   "outputs": [],
   "source": [
    "def potential_energy(x, k):\n",
    "    return 0.5 * k * x**2"
   ]
  },
  {
   "cell_type": "markdown",
   "id": "7c25fc2a",
   "metadata": {},
   "source": [
    "We also define the number of live points and the force constant of the oscillator:"
   ]
  },
  {
   "cell_type": "code",
   "execution_count": null,
   "id": "3dd7afb5",
   "metadata": {},
   "outputs": [],
   "source": [
    "K = 100\n",
    "k = 1.0  # force constant of the oscillator in eV/A^2"
   ]
  },
  {
   "cell_type": "markdown",
   "id": "8ffcd664",
   "metadata": {},
   "source": [
    "We create an initial set of live points that uniformly sample the configuration space:"
   ]
  },
  {
   "cell_type": "code",
   "execution_count": null,
   "id": "dc39822b",
   "metadata": {},
   "outputs": [],
   "source": [
    "x_max = 1.0\n",
    "live_points = np.random.uniform(-x_max, x_max, K)"
   ]
  },
  {
   "cell_type": "markdown",
   "id": "fac05f48",
   "metadata": {},
   "source": [
    "We carry out the nested sampling algorithm:"
   ]
  },
  {
   "cell_type": "code",
   "execution_count": null,
   "id": "4be759e8",
   "metadata": {},
   "outputs": [],
   "source": [
    "n_iterations = 1000\n",
    "energies = potential_energy(live_points, k)\n",
    "energies_of_culled_live_points = []\n",
    "\n",
    "for i in range(n_iterations):\n",
    "    # Get the index of the live point with the highest energy\n",
    "    idx = np.argmax(energies)\n",
    "\n",
    "    # Append the energy of the culled live point to the list\n",
    "    energies_of_culled_live_points.append(energies[idx])\n",
    "\n",
    "    # Replace the culled live point with a new live point sampled from the uniform distribution bounded by the energy of the culled live point\n",
    "    while True:\n",
    "        new_live_point = np.random.uniform(-x_max, x_max)\n",
    "        new_energy = potential_energy(new_live_point, k)\n",
    "        if new_energy < energies[idx]:\n",
    "            live_points[idx] = new_live_point\n",
    "            energies[idx] = new_energy\n",
    "            break"
   ]
  },
  {
   "cell_type": "markdown",
   "id": "12cb491e",
   "metadata": {},
   "source": [
    "## Analysis\n",
    "\n",
    "Let's plot the energy of the culled live points as a function of the iteration number:"
   ]
  },
  {
   "cell_type": "code",
   "execution_count": null,
   "id": "55115c64",
   "metadata": {},
   "outputs": [],
   "source": [
    "plt.plot(energies_of_culled_live_points, 'o-')\n",
    "plt.xlabel('Iteration')\n",
    "plt.ylabel('Energy of Culled Live Point (eV)')\n",
    "plt.show()"
   ]
  },
  {
   "cell_type": "markdown",
   "id": "da89d6d8",
   "metadata": {},
   "source": [
    "The plot shows that the energy of the culled live points decreases with the iteration number.\n",
    "\n",
    "We can estimate the partition function of the harmonic oscillator as a function of temperature:"
   ]
  },
  {
   "cell_type": "code",
   "execution_count": null,
   "id": "6f7eee66",
   "metadata": {},
   "outputs": [],
   "source": [
    "k_B = 8.617333262E-5  # Boltzmann constant in eV/K\n",
    "\n",
    "def partition_function(energies, beta, chi_0):\n",
    "    Z = 0.0\n",
    "    for i, energy in enumerate(energies):\n",
    "        delta_chi = (1 / (K + 1)) * ((K / (K + 1)) ** i)\n",
    "        Z += np.exp(-beta * energy) * delta_chi\n",
    "    return Z\n",
    "\n",
    "temperatures = np.linspace(0.1, 10.0, 100)\n",
    "partition_functions = []\n",
    "chi_0 = 2.0 * x_max\n",
    "\n",
    "for T in temperatures:\n",
    "    beta = 1 / (k_B * T)  # Boltzmann constant in eV/K\n",
    "    partition_functions.append(partition_function(energies_of_culled_live_points, beta, chi_0) * 2)"
   ]
  },
  {
   "cell_type": "markdown",
   "id": "3fbcfa28",
   "metadata": {},
   "source": [
    "Let's plot the partition function of the harmonic oscillator as a function of temperature and compare it to the exact partition function:"
   ]
  },
  {
   "cell_type": "code",
   "execution_count": null,
   "id": "73cc3715",
   "metadata": {},
   "outputs": [],
   "source": [
    "from scipy.special import erf\n",
    "\n",
    "def exact_partition_function(temperature, limit):\n",
    "    return np.sqrt(2 * np.pi * k_B * temperature) * erf(limit / np.sqrt(2 * k_B * temperature))\n",
    "\n",
    "exact_partition_functions = [exact_partition_function(T, x_max) for T in temperatures]\n",
    "\n",
    "plt.plot(temperatures, partition_functions, label='Nested Sampling')\n",
    "plt.plot(temperatures, exact_partition_functions, label='Exact')\n",
    "plt.xlabel('Temperature (K)')\n",
    "plt.ylabel('Partition Function')\n",
    "plt.legend()\n",
    "plt.show()"
   ]
  },
  {
   "cell_type": "markdown",
   "id": "da63c039",
   "metadata": {},
   "source": [
    "The plot shows that the partition function estimated using the nested sampling algorithm is in good agreement with the exact partition function. Since the partition function is contains all the information needed to calculate the thermodynamic properties of the system, the nested sampling algorithm can be used to estimate the thermodynamic properties of a chemical system.\n",
    "\n",
    "## Summary\n",
    "\n",
    "In this lecture, we discussed the nested sampling algorithm. Nested sampling is a method that can be used to estimate the partition function and thermodynamic properties of a chemical system."
   ]
  }
 ],
 "metadata": {
  "jupytext": {
   "text_representation": {
    "extension": ".md",
    "format_name": "myst",
    "format_version": "0.13",
    "jupytext_version": "1.16.4"
   }
  },
  "kernelspec": {
   "display_name": "comp-prob-solv",
   "language": "python",
   "name": "python3"
  },
  "language_info": {
   "codemirror_mode": {
    "name": "ipython",
    "version": 3
   },
   "file_extension": ".py",
   "mimetype": "text/x-python",
   "name": "python",
   "nbconvert_exporter": "python",
   "pygments_lexer": "ipython3",
   "version": "3.10.18"
  },
  "source_map": [
   12,
   118,
   123,
   127,
   130,
   134,
   137,
   141,
   144,
   148,
   168,
   174,
   179,
   185,
   202,
   206,
   220
  ]
 },
 "nbformat": 4,
 "nbformat_minor": 5
}