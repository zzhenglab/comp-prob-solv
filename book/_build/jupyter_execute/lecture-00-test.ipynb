{
 "cells": [
  {
   "cell_type": "markdown",
   "id": "f1f832e5",
   "metadata": {},
   "source": [
    "# Lecture 01 — Test: Machine Learning in Chemistry\n",
    "\n",
    "```{contents}\n",
    ":depth: 2\n",
    "```\n",
    "\n",
    "Welcome to our test lecture showcasing **MyST Markdown** features used in *Jupyter Book*. The scientific theme is *machine learning (ML) in chemistry*, but the real goal is to demonstrate every major styling element you might want in your own notes.\n",
    "\n",
    "## 1. Learning Goals\n",
    "\n",
    "```{admonition}\n",
    ":class: tip\n",
    "- Describe how supervised, unsupervised, and reinforcement learning differ.\n",
    "- Use linear regression to predict molecular properties.\n",
    "- Evaluate model performance with $R^{2}$ and MAE.\n",
    "```\n",
    "\n",
    "````{margin}\n",
    "```{admonition} Fun fact\n",
    ":class: note\n",
    "The term **“chemoinformatics”** was coined in 1998 to describe the emerging intersection of chemistry and information science.\n",
    "```\n",
    "````\n",
    "\n",
    "## 2. Background: Why ML?\n",
    "\n",
    "> *“Machine learning is rapidly becoming the third pillar of chemical discovery, alongside theory and experiment.”*\\\n",
    "> — *Someone on the Internet*\n",
    "\n",
    "### 2.1 A quick equation\n",
    "\n",
    "\\(\\hat y = f(\\mathbf x;\\,\\theta)\\)\n",
    "\n",
    "where \\$\\theta\\$ are the trainable parameters of our model.\n",
    "\n",
    "### 2.2 A mini table\n",
    "\n",
    "| Data modality | Common ML task | Example               |\n",
    "| ------------- | -------------- | --------------------- |\n",
    "| Spectra       | Regression     | Predict concentration |\n",
    "| SMILES string | Classification | Toxic vs. non‑toxic   |\n",
    "| MD trajectory | Clustering     | Conformational states |\n",
    "\n",
    "## 3. Hands‑on: Linear Regression\n",
    "\n",
    "### 3.1 Code cell (hidden *input*)"
   ]
  },
  {
   "cell_type": "code",
   "execution_count": 1,
   "id": "8f5dfa00",
   "metadata": {
    "tags": [
     "hide-input"
    ]
   },
   "outputs": [
    {
     "ename": "ModuleNotFoundError",
     "evalue": "No module named 'numpy'",
     "output_type": "error",
     "traceback": [
      "\u001b[1;31m---------------------------------------------------------------------------\u001b[0m",
      "\u001b[1;31mModuleNotFoundError\u001b[0m                       Traceback (most recent call last)",
      "Cell \u001b[1;32mIn[1], line 1\u001b[0m\n\u001b[1;32m----> 1\u001b[0m \u001b[38;5;28;01mimport\u001b[39;00m\u001b[38;5;250m \u001b[39m\u001b[38;5;21;01mnumpy\u001b[39;00m\u001b[38;5;250m \u001b[39m\u001b[38;5;28;01mas\u001b[39;00m\u001b[38;5;250m \u001b[39m\u001b[38;5;21;01mnp\u001b[39;00m\n\u001b[0;32m      2\u001b[0m \u001b[38;5;28;01mfrom\u001b[39;00m\u001b[38;5;250m \u001b[39m\u001b[38;5;21;01msklearn\u001b[39;00m\u001b[38;5;21;01m.\u001b[39;00m\u001b[38;5;21;01mlinear_model\u001b[39;00m\u001b[38;5;250m \u001b[39m\u001b[38;5;28;01mimport\u001b[39;00m LinearRegression\n\u001b[0;32m      3\u001b[0m X \u001b[38;5;241m=\u001b[39m np\u001b[38;5;241m.\u001b[39marray([[\u001b[38;5;241m1.0\u001b[39m],[\u001b[38;5;241m2.0\u001b[39m],[\u001b[38;5;241m3.0\u001b[39m],[\u001b[38;5;241m4.0\u001b[39m]])\n",
      "\u001b[1;31mModuleNotFoundError\u001b[0m: No module named 'numpy'"
     ]
    }
   ],
   "source": [
    "import numpy as np\n",
    "from sklearn.linear_model import LinearRegression\n",
    "X = np.array([[1.0],[2.0],[3.0],[4.0]])\n",
    "y = np.array([2.1, 4.1, 6.2, 8.0])\n",
    "model = LinearRegression().fit(X, y)\n",
    "print(f'Slope = {model.coef_[0]:.2f}')\n",
    "print(f'Intercept = {model.intercept_:.2f}')"
   ]
  },
  {
   "cell_type": "markdown",
   "id": "7e8cdf2d",
   "metadata": {},
   "source": [
    "### 3.2 Code cell with a plot (visible)"
   ]
  },
  {
   "cell_type": "code",
   "execution_count": null,
   "id": "b1b27e98",
   "metadata": {},
   "outputs": [],
   "source": [
    "import matplotlib.pyplot as plt\n",
    "plt.scatter(X, y, label='data')\n",
    "plt.plot(X, model.predict(X), label='fit')\n",
    "plt.xlabel('Feature')\n",
    "plt.ylabel('Target')\n",
    "plt.legend()\n",
    "plt.show()"
   ]
  },
  {
   "cell_type": "markdown",
   "id": "7308e187",
   "metadata": {},
   "source": [
    "### 3.3 Exercise\n",
    "\n",
    "```{admonition}\n",
    ":class: warning\n",
    "Train a polynomial regression model that fits the same data better than the straight line above. Try degrees 2–4 and compare MAE values.\n",
    "```\n",
    "\n",
    "## 4. Sidebar notes\n",
    "\n",
    "\\:::{sidebar} Key terms **Descriptor** – a numerical representation of molecular structure.\n",
    "\n",
    "**Overfitting** – memorizing noise instead of learning signal. :::\n",
    "\n",
    "## 5. Embedding an image\n",
    "\n",
    "```{figure}\n",
    "---\n",
    "height: 150px\n",
    "name: fig-benzene\n",
    "---\n",
    "A benzene molecule used as a toy example.\n",
    "```\n",
    "\n",
    "## 6. Hidden *output* example"
   ]
  },
  {
   "cell_type": "code",
   "execution_count": null,
   "id": "c34630ea",
   "metadata": {
    "tags": [
     "hide-output"
    ]
   },
   "outputs": [],
   "source": [
    "# This cell's printout will be hidden in the final book\n",
    "print('Training complete! Accuracy = 0.95')"
   ]
  },
  {
   "cell_type": "markdown",
   "id": "5406a4be",
   "metadata": {},
   "source": [
    "## 7. Conclusion\n",
    "\n",
    "```{admonition}\n",
    ":class: success\n",
    "Machine learning becomes most powerful in chemistry when coupled to domain knowledge and rigorous validation.\n",
    "```\n",
    "\n",
    "---\n",
    "\n",
    "*End of sample file.*"
   ]
  }
 ],
 "metadata": {
  "jupytext": {
   "text_representation": {
    "extension": ".md",
    "format_name": "myst",
    "format_version": 0.13,
    "jupytext_version": "1.16.4"
   }
  },
  "kernelspec": {
   "display_name": "comp-prob-solv",
   "language": "python",
   "name": "python3"
  },
  "language_info": {
   "codemirror_mode": {
    "name": "ipython",
    "version": 3
   },
   "file_extension": ".py",
   "mimetype": "text/x-python",
   "name": "python",
   "nbconvert_exporter": "python",
   "pygments_lexer": "ipython3",
   "version": "3.10.18"
  },
  "source_map": [
   12,
   61,
   70,
   74,
   82,
   109,
   113
  ]
 },
 "nbformat": 4,
 "nbformat_minor": 5
}