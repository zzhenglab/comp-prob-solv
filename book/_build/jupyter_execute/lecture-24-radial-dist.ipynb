{
 "cells": [
  {
   "cell_type": "markdown",
   "id": "376da62d",
   "metadata": {},
   "source": [
    "# Chapter 23: Radial Distribution Function\n",
    "\n",
    "## Learning Objectives\n",
    "\n",
    "By the end of this lecture, you will be able to:\n",
    "\n",
    "1. Define the radial distribution function.\n",
    "2. Compute the radial distribution function for a given configuration of particles.\n",
    "3. Understand the physical significance of the radial distribution function.\n",
    "\n",
    "## Radial Distribution Function"
   ]
  },
  {
   "cell_type": "code",
   "execution_count": 1,
   "id": "129d4ea7",
   "metadata": {
    "tags": [
     "hide-input"
    ]
   },
   "outputs": [
    {
     "ename": "ModuleNotFoundError",
     "evalue": "No module named 'numpy'",
     "output_type": "error",
     "traceback": [
      "\u001b[1;31m---------------------------------------------------------------------------\u001b[0m",
      "\u001b[1;31mModuleNotFoundError\u001b[0m                       Traceback (most recent call last)",
      "Cell \u001b[1;32mIn[1], line 1\u001b[0m\n\u001b[1;32m----> 1\u001b[0m \u001b[38;5;28;01mimport\u001b[39;00m\u001b[38;5;250m \u001b[39m\u001b[38;5;21;01mnumpy\u001b[39;00m\u001b[38;5;250m \u001b[39m\u001b[38;5;28;01mas\u001b[39;00m\u001b[38;5;250m \u001b[39m\u001b[38;5;21;01mnp\u001b[39;00m\n\u001b[0;32m      2\u001b[0m \u001b[38;5;28;01mimport\u001b[39;00m\u001b[38;5;250m \u001b[39m\u001b[38;5;21;01mmatplotlib\u001b[39;00m\u001b[38;5;21;01m.\u001b[39;00m\u001b[38;5;21;01mpyplot\u001b[39;00m\u001b[38;5;250m \u001b[39m\u001b[38;5;28;01mas\u001b[39;00m\u001b[38;5;250m \u001b[39m\u001b[38;5;21;01mplt\u001b[39;00m\n\u001b[0;32m      4\u001b[0m \u001b[38;5;66;03m# Parameters\u001b[39;00m\n",
      "\u001b[1;31mModuleNotFoundError\u001b[0m: No module named 'numpy'"
     ]
    }
   ],
   "source": [
    "import numpy as np\n",
    "import matplotlib.pyplot as plt\n",
    "\n",
    "# Parameters\n",
    "central_particle = (0, 0)\n",
    "num_particles = 100\n",
    "box_size = 10\n",
    "r = 3.0  # Shell radius\n",
    "dr = 0.5  # Shell thickness\n",
    "\n",
    "# Generate random particle positions\n",
    "np.random.seed(42)  # For reproducibility\n",
    "particle_positions = np.random.uniform(-box_size/2, box_size/2, size=(num_particles, 2))\n",
    "\n",
    "# Plot setup\n",
    "fig, ax = plt.subplots(figsize=(8, 8))\n",
    "ax.set_xlim(-box_size/2, box_size/2)\n",
    "ax.set_ylim(-box_size/2, box_size/2)\n",
    "ax.set_aspect('equal', adjustable='datalim')\n",
    "\n",
    "# Draw central particle\n",
    "ax.plot(*central_particle, 'o', color='red', label='Central Particle')\n",
    "\n",
    "# Draw surrounding particles\n",
    "for pos in particle_positions:\n",
    "    ax.plot(*pos, 'o', color='blue', markersize=5, alpha=0.7)\n",
    "\n",
    "# Draw the shell\n",
    "circle_inner = plt.Circle(central_particle, r, color='green', fill=False, linestyle='--', label=f'$r = {r}$')\n",
    "circle_outer = plt.Circle(central_particle, r + dr, color='orange', fill=False, linestyle='--', label=f'$r + \\Delta r = {r + dr}$')\n",
    "ax.add_artist(circle_inner)\n",
    "ax.add_artist(circle_outer)\n",
    "\n",
    "# Annotate particles within the shell\n",
    "for pos in particle_positions:\n",
    "    distance = np.linalg.norm(np.array(pos) - np.array(central_particle))\n",
    "    if r <= distance < r + dr:\n",
    "        ax.plot(*pos, 'o', color='purple', markersize=7)\n",
    "\n",
    "# Add labels and legend\n",
    "ax.set_title('Radial Distribution Function Demonstration')\n",
    "ax.set_xlabel('$x$')\n",
    "ax.set_ylabel('$y$')\n",
    "ax.legend()\n",
    "\n",
    "# Show plot\n",
    "plt.show()"
   ]
  },
  {
   "cell_type": "markdown",
   "id": "5cc467e9",
   "metadata": {},
   "source": [
    "The radial distribution function, denoted by $g(r)$, is a measure of the \"structure\" of a fluid or solid. It quantifies the average number of particles at a distance $r$ from a central particle relative to the ideal gas case. The radial distribution function is defined as\n",
    "\n",
    "$$\n",
    "g(r) = \\frac{\\langle N(r) \\rangle}{4 \\pi r^2 \\Delta r \\rho}\n",
    "$$\n",
    "\n",
    "where $\\langle N(r) \\rangle$ is the average number of particles in a shell of radius $r$ and thickness $\\Delta r$ around a central particle, $\\rho$ is the number density of particles, and $r$ is the distance from the central particle. The radial distribution function provides information about the local structure of a system, such as the presence of short-range order, long-range order, or disorder.\n",
    "\n",
    "## Computing the Radial Distribution Function\n",
    "\n",
    "To compute the radial distribution function for a given configuration of particles, we need to follow these steps:\n",
    "\n",
    "1. Compute the distance between all pairs of particles in the system.\n",
    "2. Bin the distances into radial bins.\n",
    "3. Compute the radial distribution function using the formula given above.\n",
    "\n",
    "Let's consider an example to illustrate how to compute the radial distribution function for a simple system of particles.\n",
    "\n",
    "## Example: Lennard-Jones Fluid\n",
    "\n",
    "![Lennard-Jones Fluid](lj.png)\n",
    "\n",
    "Consider a three-dimensional Lennard-Jones fluid ($\\epsilon = 1$, $\\sigma = 1$, $r_c = 2.5$) with periodic boundary conditions and $N = 1500$ particles in a cubic box of side length $L = 20$. The final configuration of the particles, after a molecular dynamics simulation at a temperature of $T = 0.5$, is given in the file [`lj.xyz`](https://wustl.instructure.com/courses/141498/files/8808015/download?download_frd=1). We want to compute the radial distribution function for this configuration of particles.\n",
    "\n",
    "Let's start by loading the configuration of particles from the file `lj.xyz`."
   ]
  },
  {
   "cell_type": "code",
   "execution_count": null,
   "id": "9bb01417",
   "metadata": {},
   "outputs": [],
   "source": [
    "# Load the configuration of particles from the file lj.xyz\n",
    "import numpy as np\n",
    "\n",
    "def read_xyz(filename):\n",
    "    with open(filename, 'r') as f:\n",
    "        lines = f.readlines()\n",
    "        n_atoms = int(lines[0])\n",
    "        data = np.zeros((n_atoms, 3))\n",
    "        for i in range(2, n_atoms + 2):\n",
    "            # Skip the first and second columns (id and species) and extract the x, y, z coordinates\n",
    "            data[i - 2] = np.array([float(x) for x in lines[i].split()[2:5]])\n",
    "    return data\n",
    "\n",
    "# Load the configuration of particles from the file lj.xyz\n",
    "filename = 'lj.xyz'\n",
    "positions = read_xyz(filename)\n",
    "n_atoms = len(positions)\n",
    "print(f'Number of particles: {n_atoms}')"
   ]
  },
  {
   "cell_type": "markdown",
   "id": "14f317b9",
   "metadata": {},
   "source": [
    "Now that we have loaded the configuration of particles, we can compute the distance between all pairs of particles in the system."
   ]
  },
  {
   "cell_type": "code",
   "execution_count": null,
   "id": "d880e704",
   "metadata": {},
   "outputs": [],
   "source": [
    "# Compute the distance between all pairs of particles in the system\n",
    "def compute_distance(positions, box_length):\n",
    "    n_atoms = len(positions)\n",
    "    distances = []\n",
    "    for i in range(n_atoms):\n",
    "        for j in range(n_atoms):\n",
    "            if i >= j:\n",
    "                continue\n",
    "            dr = positions[i] - positions[j]\n",
    "            dr = dr - box_length * np.round(dr / box_length)\n",
    "            distance = np.linalg.norm(dr)\n",
    "            distances.append(distance)\n",
    "    return distances\n",
    "\n",
    "# Compute the distance between all pairs of particles in the system\n",
    "box_length = 20\n",
    "distances = compute_distance(positions, box_length)\n",
    "print(f'Number of distances: {len(distances)}')\n",
    "\n",
    "# Compute the statistics of the distances\n",
    "print(f'Minimum distance: {min(distances)}')\n",
    "print(f'Maximum distance: {max(distances)}')\n",
    "print(f'Mean distance: {np.mean(distances)}')\n",
    "print(f'Standard deviation of distance: {np.std(distances)}')"
   ]
  },
  {
   "cell_type": "markdown",
   "id": "f0a7be64",
   "metadata": {},
   "source": [
    "Next, we need to bin the distances into radial bins. We will use a bin width of $0.2$ and a maximum distance of $10$ for this example."
   ]
  },
  {
   "cell_type": "code",
   "execution_count": null,
   "id": "61eacc5e",
   "metadata": {},
   "outputs": [],
   "source": [
    "# Bin the distances into radial bins\n",
    "def bin_distances(distances, bin_width, max_distance):\n",
    "    bins = np.arange(bin_width, max_distance + bin_width * 2, bin_width)\n",
    "    hist, _ = np.histogram(distances, bins=bins)\n",
    "    return hist\n",
    "\n",
    "# Bin the distances into radial bins\n",
    "bin_width = 0.01\n",
    "max_distance = 3.5\n",
    "hist = bin_distances(distances, bin_width, max_distance)\n",
    "print(f'Number of bins: {len(hist)}')"
   ]
  },
  {
   "cell_type": "markdown",
   "id": "bb9f206c",
   "metadata": {},
   "source": [
    "Finally, we can compute the radial distribution function using the formula given above."
   ]
  },
  {
   "cell_type": "code",
   "execution_count": null,
   "id": "5774a096",
   "metadata": {},
   "outputs": [],
   "source": [
    "def radial_distribution_function(hist, n_atoms, box_length, bin_width):\n",
    "    rho = n_atoms / box_length**3\n",
    "    r = (np.arange(1, len(hist) + 1) - 0.5) * bin_width\n",
    "    shell_volumes = 4 * np.pi * r**2 * bin_width\n",
    "    g = hist / (rho * n_atoms * shell_volumes)\n",
    "    return r, g\n",
    "\n",
    "# Compute the radial distribution function\n",
    "r, g = radial_distribution_function(hist, n_atoms, box_length, bin_width)"
   ]
  },
  {
   "cell_type": "markdown",
   "id": "4047b581",
   "metadata": {},
   "source": [
    "Now that we have computed the radial distribution function, we can plot it to visualize the structure of the fluid."
   ]
  },
  {
   "cell_type": "code",
   "execution_count": null,
   "id": "a46b8291",
   "metadata": {
    "tags": [
     "hide-input"
    ]
   },
   "outputs": [],
   "source": [
    "import matplotlib.pyplot as plt\n",
    "\n",
    "# Plot the radial distribution function\n",
    "plt.plot(r, g)\n",
    "plt.xlabel('r')\n",
    "plt.ylabel('g(r)')\n",
    "plt.title('Radial Distribution Function')\n",
    "\n",
    "# Annotate the first peak\n",
    "first_peak_label = 'First Nearest Neighbor Peak'\n",
    "plt.annotate(\n",
    "    first_peak_label,\n",
    "    xy=(1.2, 3),\n",
    "    xytext=(1.5, 4),\n",
    "    arrowprops=dict(facecolor='black', shrink=0.05))\n",
    "\n",
    "# Annotate the second peak\n",
    "second_peak_label = 'Second Nearest Neighbor Peak'\n",
    "plt.annotate(\n",
    "    second_peak_label,\n",
    "    xy=(2.2, 1.5),\n",
    "    xytext=(2.5, 2),\n",
    "    arrowprops=dict(facecolor='black', shrink=0.05))\n",
    "\n",
    "# Annotate the third peak\n",
    "third_peak_label = 'Third Nearest Neighbor Peak'\n",
    "plt.annotate(\n",
    "    third_peak_label,\n",
    "    xy=(3.2, 1),\n",
    "    xytext=(3.5, 1.5),\n",
    "    arrowprops=dict(facecolor='black', shrink=0.05))\n",
    "\n",
    "# Horizontal line at g(r) = 1\n",
    "plt.axhline(y=1, color='r', linestyle='--')\n",
    "plt.text(0, 1.1, 'Ideal Gas', color='red')\n",
    "\n",
    "plt.show()"
   ]
  },
  {
   "cell_type": "markdown",
   "id": "10dbd448",
   "metadata": {},
   "source": [
    "## Interpretation of the Radial Distribution Function\n",
    "\n",
    "The radial distribution function provides information about the local structure of a system. Here are some key points to keep in mind when interpreting the radial distribution function:\n",
    "\n",
    "- $g(r) = 1$ for an ideal gas, indicating no correlation between particles at different distances.\n",
    "- $g(r) > 1$ for attractive interactions, indicating clustering of particles at certain distances.\n",
    "- $g(r) < 1$ for repulsive interactions, indicating exclusion of particles at certain distances.\n",
    "- Peaks in $g(r)$ correspond to the average number of particles at specific distances from a central particle.\n",
    "- The first peak in $g(r)$ corresponds to the first nearest neighbor distance, the second peak to the second nearest neighbor distance, and so on.\n",
    "- The height and width of the peaks in $g(r)$ provide information about the strength and range of interactions between particles. Higher, narrower peaks indicate strong, short-range interactions, while broader peaks indicate weaker, longer-range interactions.\n",
    "\n",
    "## Summary\n",
    "\n",
    "In this lecture, we introduced the radial distribution function as a measure of the local structure of a fluid or solid. We discussed how to compute the radial distribution function for a given configuration of particles and interpret the results. The radial distribution function provides valuable insights into the interactions between particles in a system and will helps us understand the structure and properties of bead-spring polymers in the next lecture and project."
   ]
  }
 ],
 "metadata": {
  "jupytext": {
   "text_representation": {
    "extension": ".md",
    "format_name": "myst",
    "format_version": "0.13",
    "jupytext_version": "1.16.4"
   }
  },
  "kernelspec": {
   "display_name": "comp-prob-solv",
   "language": "python",
   "name": "python3"
  },
  "language_info": {
   "codemirror_mode": {
    "name": "ipython",
    "version": 3
   },
   "file_extension": ".py",
   "mimetype": "text/x-python",
   "name": "python",
   "nbconvert_exporter": "python",
   "pygments_lexer": "ipython3",
   "version": "3.10.18"
  },
  "source_map": [
   12,
   26,
   75,
   103,
   122,
   126,
   151,
   155,
   167,
   171,
   181,
   185,
   224
  ]
 },
 "nbformat": 4,
 "nbformat_minor": 5
}