{
 "cells": [
  {
   "cell_type": "markdown",
   "id": "cbc9d27f",
   "metadata": {},
   "source": [
    "# Chapter 22: Atomic Simulation Environment (ASE)\n",
    "\n",
    "## Learning Objectives\n",
    "\n",
    "By the end of this lecture, you should be able to:\n",
    "\n",
    "1. Install and set up ASE for molecular simulations.\n",
    "2. Create, visualize, and manipulate molecular structures using ASE.\n",
    "3. Perform basic computational tasks such as optimizing molecular geometries and calculating energies.\n",
    "4. Use ASE in conjunction with machine learning calculators like MACE.\n",
    "5. Model adsorption phenomena on surfaces and perform molecular dynamics simulations.\n",
    "\n",
    "## Introduction\n",
    "\n",
    "The **Atomic Simulation Environment (ASE)** is a powerful Python library for setting up, manipulating, and analyzing atomistic simulations. ASE provides tools to create and visualize molecular structures, perform geometry optimizations, calculate energies and forces, and run molecular dynamics simulations. It serves as an interface to various computational chemistry codes and can be extended with custom calculators, making it a versatile tool for computational materials science and chemistry.\n",
    "\n",
    "In this lecture, we'll explore how to use ASE for common tasks in computational chemistry, such as creating molecules, optimizing structures, and simulating adsorption on surfaces. We'll also see how ASE integrates with machine learning calculators like MACE to accelerate simulations.\n",
    "\n",
    "## Installing ASE\n",
    "\n",
    "ASE can be installed using `pip`:\n",
    "\n",
    "```bash\n",
    "pip install ase\n",
    "```\n",
    "\n",
    "Alternatively, if you're using Anaconda, you can install it via `conda`:\n",
    "\n",
    "```bash\n",
    "conda install -c conda-forge ase\n",
    "```\n",
    "\n",
    "## Creating a Molecule\n",
    "\n",
    "Let's create a simple molecule using ASE. We'll start by creating a carbon monoxide (CO) molecule."
   ]
  },
  {
   "cell_type": "code",
   "execution_count": 1,
   "id": "de6b8c5e",
   "metadata": {},
   "outputs": [
    {
     "ename": "ModuleNotFoundError",
     "evalue": "No module named 'ase'",
     "output_type": "error",
     "traceback": [
      "\u001b[1;31m---------------------------------------------------------------------------\u001b[0m",
      "\u001b[1;31mModuleNotFoundError\u001b[0m                       Traceback (most recent call last)",
      "Cell \u001b[1;32mIn[1], line 1\u001b[0m\n\u001b[1;32m----> 1\u001b[0m \u001b[38;5;28;01mfrom\u001b[39;00m\u001b[38;5;250m \u001b[39m\u001b[38;5;21;01mase\u001b[39;00m\u001b[38;5;250m \u001b[39m\u001b[38;5;28;01mimport\u001b[39;00m Atoms\n\u001b[0;32m      3\u001b[0m \u001b[38;5;66;03m# Create a CO molecule with specified positions\u001b[39;00m\n\u001b[0;32m      4\u001b[0m atoms \u001b[38;5;241m=\u001b[39m Atoms(\u001b[38;5;124m'\u001b[39m\u001b[38;5;124mCO\u001b[39m\u001b[38;5;124m'\u001b[39m, positions\u001b[38;5;241m=\u001b[39m[(\u001b[38;5;241m0\u001b[39m, \u001b[38;5;241m0\u001b[39m, \u001b[38;5;241m0\u001b[39m), (\u001b[38;5;241m1.2\u001b[39m, \u001b[38;5;241m0\u001b[39m, \u001b[38;5;241m0\u001b[39m)])\n",
      "\u001b[1;31mModuleNotFoundError\u001b[0m: No module named 'ase'"
     ]
    }
   ],
   "source": [
    "from ase import Atoms\n",
    "\n",
    "# Create a CO molecule with specified positions\n",
    "atoms = Atoms('CO', positions=[(0, 0, 0), (1.2, 0, 0)])\n",
    "\n",
    "# Print the molecule's information\n",
    "print(atoms)"
   ]
  },
  {
   "cell_type": "markdown",
   "id": "81563591",
   "metadata": {},
   "source": [
    "## Visualizing a Molecule\n",
    "\n",
    "ASE can visualize molecules using Matplotlib. Let's visualize the CO molecule we created."
   ]
  },
  {
   "cell_type": "code",
   "execution_count": null,
   "id": "409a9159",
   "metadata": {},
   "outputs": [],
   "source": [
    "import matplotlib.pyplot as plt\n",
    "from ase.visualize.plot import plot_atoms\n",
    "\n",
    "# Plot the molecule\n",
    "fig, ax = plt.subplots(figsize=(6, 6))\n",
    "plot_atoms(atoms, ax, radii=0.5)\n",
    "ax.set_title('CO Molecule')\n",
    "plt.show()"
   ]
  },
  {
   "cell_type": "markdown",
   "id": "36d35195",
   "metadata": {},
   "source": [
    "## Writing a Molecule to a File\n",
    "\n",
    "We can write the molecule to a file in various formats. Here, we'll write it to an XYZ file."
   ]
  },
  {
   "cell_type": "code",
   "execution_count": null,
   "id": "d297b990",
   "metadata": {},
   "outputs": [],
   "source": [
    "from ase.io import write\n",
    "\n",
    "# Write the molecule to an XYZ file\n",
    "write('CO.xyz', atoms)"
   ]
  },
  {
   "cell_type": "markdown",
   "id": "abb9ca49",
   "metadata": {},
   "source": [
    "````{note}\n",
    "**CO.xyz**\n",
    "\n",
    "```none\n",
    "2\n",
    "Properties=species:S:1:pos:R:3\n",
    "C        0.00000000       0.00000000       0.00000000\n",
    "O        1.20000000       0.00000000       0.00000000\n",
    "```\n",
    "````\n",
    "\n",
    "## Reading a Molecule from a File\n",
    "\n",
    "We can read the molecule back from the file we just created."
   ]
  },
  {
   "cell_type": "code",
   "execution_count": null,
   "id": "33b0b0f9",
   "metadata": {},
   "outputs": [],
   "source": [
    "from ase.io import read\n",
    "\n",
    "# Read the molecule from the XYZ file\n",
    "atoms = read('CO.xyz')\n",
    "\n",
    "# Print the molecule's information\n",
    "print(atoms)"
   ]
  },
  {
   "cell_type": "markdown",
   "id": "2ad44bdd",
   "metadata": {},
   "source": [
    "## Using a Machine Learning Calculator: MACE\n",
    "\n",
    "[MACE](https://arxiv.org/abs/2401.00096) is a higher-order equivariant message-passing neural network for fast and accurate force fields. We'll use MACE as a calculator in ASE.\n",
    "\n",
    "First, install MACE:\n",
    "\n",
    "```bash\n",
    "pip install mace-torch\n",
    "```"
   ]
  },
  {
   "cell_type": "code",
   "execution_count": null,
   "id": "300df53d",
   "metadata": {
    "tags": [
     "hide-output"
    ]
   },
   "outputs": [],
   "source": [
    "from mace.calculators import mace_mp\n",
    "\n",
    "# Set up the MACE calculator\n",
    "macemp = mace_mp()\n",
    "\n",
    "# Attach the calculator to the molecule\n",
    "atoms.calc = macemp"
   ]
  },
  {
   "cell_type": "markdown",
   "id": "6052bac6",
   "metadata": {},
   "source": [
    "## Geometry Optimization\n",
    "\n",
    "We can optimize the geometry of the CO molecule using the BFGS algorithm."
   ]
  },
  {
   "cell_type": "code",
   "execution_count": null,
   "id": "0b4783cc",
   "metadata": {},
   "outputs": [],
   "source": [
    "from ase.optimize import BFGS\n",
    "\n",
    "# Optimize the molecule\n",
    "opt = BFGS(atoms)\n",
    "opt.run(fmax=0.05)\n",
    "\n",
    "# Print the optimized bond length\n",
    "bond_length = atoms.get_distance(0, 1)\n",
    "print(f\"Optimized C–O bond length: {bond_length:.3f} Å\")"
   ]
  },
  {
   "cell_type": "markdown",
   "id": "113694a2",
   "metadata": {},
   "source": [
    "The optimized bond length should be close to the experimental value of approximately 1.128 Å.\n",
    "\n",
    "## Calculating the Atomization Energy\n",
    "\n",
    "We can calculate the atomization energy of CO by comparing the total energy of the molecule to the energies of isolated atoms."
   ]
  },
  {
   "cell_type": "code",
   "execution_count": null,
   "id": "9f417b7f",
   "metadata": {},
   "outputs": [],
   "source": [
    "# Create isolated atoms\n",
    "C = Atoms('C', positions=[(0, 0, 0)])\n",
    "O = Atoms('O', positions=[(0, 0, 0)])\n",
    "\n",
    "# Attach the calculator to the atoms\n",
    "C.calc = macemp\n",
    "O.calc = macemp\n",
    "\n",
    "# Calculate the energies\n",
    "E_CO = atoms.get_potential_energy()\n",
    "E_C = C.get_potential_energy()\n",
    "E_O = O.get_potential_energy()\n",
    "\n",
    "# Print the energies\n",
    "print(f\"E_CO: {E_CO:.2f} eV\")\n",
    "print(f\"E_C: {E_C:.2f} eV\")\n",
    "print(f\"E_O: {E_O:.2f} eV\")\n",
    "\n",
    "# Calculate the atomization energy\n",
    "atomization_energy = E_C + E_O - E_CO\n",
    "\n",
    "print(f\"Atomization Energy of CO: {atomization_energy:.2f} eV\")"
   ]
  },
  {
   "cell_type": "markdown",
   "id": "dba1f4c1",
   "metadata": {},
   "source": [
    "The atomization energy should be close to the experimental value of approximately 11.16 eV.\n",
    "\n",
    "## Example: CO Adsorption on Pt(100)\n",
    "\n",
    "Let's simulate the adsorption of CO on a platinum (Pt) (100) surface using ASE.\n",
    "\n",
    "### Creating the Pt(100) Surface"
   ]
  },
  {
   "cell_type": "code",
   "execution_count": null,
   "id": "a48469ca",
   "metadata": {},
   "outputs": [],
   "source": [
    "from ase.build import fcc100\n",
    "\n",
    "# Create the Pt(100) surface with specified size and vacuum\n",
    "slab = fcc100('Pt', size=(2, 2, 3), vacuum=10.0)\n",
    "\n",
    "# Visualize the Pt(100) surface\n",
    "fig, axs = plt.subplot_mosaic([['side', 'top']], figsize=(12, 6))\n",
    "plot_atoms(slab, axs['side'], radii=0.5, rotation='90x,90y')\n",
    "plot_atoms(slab, axs['top'], radii=0.5)\n",
    "axs['side'].set_title('Side View')\n",
    "axs['top'].set_title('Top View')\n",
    "plt.tight_layout()\n",
    "plt.show()"
   ]
  },
  {
   "cell_type": "markdown",
   "id": "baa6bcd3",
   "metadata": {},
   "source": [
    "### Adding CO Adsorbate"
   ]
  },
  {
   "cell_type": "code",
   "execution_count": null,
   "id": "3b1ff63f",
   "metadata": {},
   "outputs": [],
   "source": [
    "from ase.build import molecule\n",
    "from ase.build.surface import add_adsorbate\n",
    "\n",
    "# Create the CO molecule\n",
    "co_molecule = molecule('CO')\n",
    "\n",
    "# Adjust the position of CO\n",
    "co_molecule.set_distance(0, 1, 1.14)\n",
    "\n",
    "# Add the CO molecule to the Pt(100) surface\n",
    "add_adsorbate(slab, co_molecule, height=3, position=(3, 3))\n",
    "\n",
    "# Visualize the slab with CO adsorbed\n",
    "fig, axs = plt.subplot_mosaic([['side', 'top']], figsize=(12, 6))\n",
    "plot_atoms(slab, axs['side'], radii=0.5, rotation='-90x')\n",
    "plot_atoms(slab, axs['top'], radii=0.5)\n",
    "axs['side'].set_title('Side View with CO Adsorbed')\n",
    "axs['top'].set_title('Top View with CO Adsorbed')\n",
    "plt.tight_layout()\n",
    "plt.show()"
   ]
  },
  {
   "cell_type": "markdown",
   "id": "22b9118f",
   "metadata": {},
   "source": [
    "### Optimization of the Adsorbed System"
   ]
  },
  {
   "cell_type": "code",
   "execution_count": null,
   "id": "1d09dd3c",
   "metadata": {},
   "outputs": [],
   "source": [
    "# Attach the calculator to the slab\n",
    "slab.calc = macemp\n",
    "\n",
    "# Optimize the slab with CO adsorbed\n",
    "opt = BFGS(slab, logfile='Pt100_CO.log')\n",
    "opt.run(fmax=0.05)\n",
    "\n",
    "# Visualize the optimized structure\n",
    "fig, axs = plt.subplot_mosaic([['side', 'top']], figsize=(12, 6))\n",
    "plot_atoms(slab, axs['side'], radii=0.5, rotation='-90x')\n",
    "plot_atoms(slab, axs['top'], radii=0.5)\n",
    "axs['side'].set_title('Optimized Side View')\n",
    "axs['top'].set_title('Optimized Top View')\n",
    "plt.tight_layout()\n",
    "plt.show()"
   ]
  },
  {
   "cell_type": "markdown",
   "id": "e7c56a11",
   "metadata": {},
   "source": [
    "## Calculating the Adsorption Energy\n",
    "\n",
    "The adsorption energy can be calculated using the energies of the slab with and without CO, and the energy of the isolated CO molecule."
   ]
  },
  {
   "cell_type": "code",
   "execution_count": null,
   "id": "e7b91547",
   "metadata": {},
   "outputs": [],
   "source": [
    "# Energy of the slab with CO adsorbed\n",
    "E_slab_CO = slab.get_potential_energy()\n",
    "\n",
    "# Create and calculate energy of the clean slab\n",
    "slab_clean = fcc100('Pt', size=(2, 2, 3), vacuum=10.0)\n",
    "slab_clean.calc = macemp\n",
    "\n",
    "# Optimize the clean slab\n",
    "opt_clean = BFGS(slab_clean)\n",
    "opt_clean.run(fmax=0.05)\n",
    "\n",
    "E_slab = slab_clean.get_potential_energy()\n",
    "\n",
    "# Recalculate E_CO if needed\n",
    "E_CO = atoms.get_potential_energy()\n",
    "\n",
    "# Calculate the adsorption energy\n",
    "adsorption_energy = E_slab_CO - E_slab - E_CO\n",
    "\n",
    "print(f\"Adsorption Energy: {adsorption_energy:.2f} eV\")"
   ]
  },
  {
   "cell_type": "markdown",
   "id": "86df0db4",
   "metadata": {},
   "source": [
    "The adsorption energy should be negative, indicating that adsorption is energetically favorable. The value should be in the range of approximately -1.73 eV to -1.64 eV, consistent with [computational data](https://www.catalysis-hub.org/).\n",
    "\n",
    "## Example: Molecular Dynamics of CO on Pt(100)\n",
    "\n",
    "We can perform molecular dynamics (MD) simulations to study the behavior of CO on the Pt(100) surface at finite temperatures.\n",
    "\n",
    "### Setting Up Molecular Dynamics"
   ]
  },
  {
   "cell_type": "code",
   "execution_count": null,
   "id": "b6eff06a",
   "metadata": {},
   "outputs": [],
   "source": [
    "from ase import units\n",
    "from ase.md.andersen import Andersen\n",
    "from ase.md.velocitydistribution import MaxwellBoltzmannDistribution\n",
    "import matplotlib.pyplot as plt\n",
    "\n",
    "# Set the temperature and time step\n",
    "temperature = 300  # Kelvin\n",
    "timestep = 1.0  # fs\n",
    "\n",
    "# Initialize velocities according to the Maxwell-Boltzmann distribution\n",
    "MaxwellBoltzmannDistribution(slab, temperature_K=temperature)\n",
    "\n",
    "# Set up the Andersen dynamics\n",
    "dyn = Andersen(slab, timestep * units.fs, temperature_K=temperature, andersen_prob=0.1)\n",
    "\n",
    "# Lists to store energies\n",
    "kinetic_energies = []\n",
    "potential_energies = []\n",
    "total_energies = []\n",
    "\n",
    "# Function to store energies\n",
    "def store_energies():\n",
    "    kinetic_energy = slab.get_kinetic_energy()\n",
    "    potential_energy = slab.get_potential_energy()\n",
    "    total_energy = kinetic_energy + potential_energy\n",
    "    kinetic_energies.append(kinetic_energy)\n",
    "    potential_energies.append(potential_energy)\n",
    "    total_energies.append(total_energy)\n",
    "\n",
    "# Attach the function to the dynamics\n",
    "dyn.attach(store_energies, interval=1)\n",
    "\n",
    "# Run the MD simulation for 100 steps\n",
    "dyn.run(200)\n",
    "\n",
    "# Plot the energy during the simulation\n",
    "fig, axs = plt.subplots(1, 3, figsize=(18, 6))\n",
    "\n",
    "axs[0].set_title('Kinetic Energy')\n",
    "axs[0].plot(kinetic_energies)\n",
    "axs[0].set_xlabel('Time Step')\n",
    "axs[0].set_ylabel('Energy (eV)')\n",
    "\n",
    "axs[1].set_title('Potential Energy')\n",
    "axs[1].plot(potential_energies)\n",
    "axs[1].set_xlabel('Time Step')\n",
    "axs[1].set_ylabel('Energy (eV)')\n",
    "\n",
    "axs[2].set_title('Total Energy')\n",
    "axs[2].plot(total_energies)\n",
    "axs[2].set_xlabel('Time Step')\n",
    "axs[2].set_ylabel('Energy (eV)')\n",
    "\n",
    "plt.tight_layout()\n",
    "plt.show()"
   ]
  },
  {
   "cell_type": "markdown",
   "id": "ee6e1518",
   "metadata": {},
   "source": [
    "### Visualizing the MD Simulation\n",
    "\n",
    "After the simulation, we can visualize the final configuration."
   ]
  },
  {
   "cell_type": "code",
   "execution_count": null,
   "id": "f0e3ddc9",
   "metadata": {},
   "outputs": [],
   "source": [
    "# Visualize the slab after MD simulation\n",
    "fig, axs = plt.subplot_mosaic([['side', 'top']], figsize=(12, 6))\n",
    "plot_atoms(slab, axs['side'], radii=0.5, rotation='-90x')\n",
    "plot_atoms(slab, axs['top'], radii=0.5)\n",
    "axs['side'].set_title('Post-MD Side View')\n",
    "axs['top'].set_title('Post-MD Top View')\n",
    "plt.tight_layout()\n",
    "plt.show()"
   ]
  },
  {
   "cell_type": "markdown",
   "id": "27a428de",
   "metadata": {},
   "source": [
    "## Summary\n",
    "\n",
    "In this lecture, we explored the Atomic Simulation Environment (ASE) and its capabilities for molecular modeling and simulations. We learned how to:\n",
    "\n",
    "- Install and set up ASE for simulations.\n",
    "- Create and visualize molecular structures.\n",
    "- Write and read molecular data to and from files.\n",
    "- Use machine learning calculators like MACE for efficient computations.\n",
    "- Perform geometry optimizations and calculate energies, such as atomization and adsorption energies.\n",
    "- Model surface phenomena like CO adsorption on Pt(100).\n",
    "- Conduct molecular dynamics simulations to study temperature-dependent behavior.\n",
    "\n",
    "ASE provides a flexible and powerful framework for computational studies in chemistry and materials science, allowing researchers to perform a wide range of simulations with ease."
   ]
  }
 ],
 "metadata": {
  "jupytext": {
   "text_representation": {
    "extension": ".md",
    "format_name": "myst",
    "format_version": "0.13",
    "jupytext_version": "1.16.4"
   }
  },
  "kernelspec": {
   "display_name": "comp-prob-solv",
   "language": "python",
   "name": "python3"
  },
  "language_info": {
   "codemirror_mode": {
    "name": "ipython",
    "version": 3
   },
   "file_extension": ".py",
   "mimetype": "text/x-python",
   "name": "python",
   "nbconvert_exporter": "python",
   "pygments_lexer": "ipython3",
   "version": "3.10.18"
  },
  "source_map": [
   12,
   50,
   58,
   64,
   73,
   79,
   84,
   101,
   109,
   121,
   130,
   136,
   146,
   154,
   177,
   187,
   201,
   205,
   226,
   230,
   246,
   252,
   273,
   283,
   339,
   345,
   354
  ]
 },
 "nbformat": 4,
 "nbformat_minor": 5
}