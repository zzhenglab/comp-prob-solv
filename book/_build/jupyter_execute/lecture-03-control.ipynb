{
 "cells": [
  {
   "cell_type": "markdown",
   "id": "470f9199",
   "metadata": {},
   "source": [
    "# Chapter 3: Control Structures in Python\n",
    "\n",
    "## Introduction\n",
    "\n",
    "In this lecture, we will explore one of the most crucial aspects of programming: control structures. Control structures are fundamental building blocks in Python, allowing you to control the flow of execution in your programs. By using these structures, you can make your code more dynamic, flexible, and responsive to different conditions and inputs.\n",
    "\n",
    "### What Are Control Structures?\n",
    "\n",
    "Control structures dictate the order in which individual statements, instructions, or function calls are executed or evaluated. They enable you to:\n",
    "\n",
    "- Execute specific blocks of code based on certain conditions.\n",
    "- Repeat actions or processes efficiently.\n",
    "- Organize code into reusable sections, making your programs more modular and easier to maintain.\n",
    "\n",
    "### Key Control Structures in Python\n",
    "\n",
    "In Python, there are three main types of control structures that we will cover in this lecture:\n",
    "\n",
    "1. **Conditional Statements:** These allow you to execute code only when certain conditions are met. This is essential for making decisions in your programs.\n",
    "\n",
    "2. **Loops:** Loops enable you to repeat a block of code multiple times, which is useful for tasks that require iteration, such as processing data sets or performing repetitive calculations.\n",
    "\n",
    "3. **Functions:** Functions allow you to encapsulate code into reusable blocks. This not only makes your code more organized but also facilitates code reuse and reduces redundancy.\n",
    "\n",
    "## Learning Objectives\n",
    "\n",
    "By the end of this lecture, you will be able to:\n",
    "\n",
    "- Understand and apply conditional statements to control the flow of execution in Python.\n",
    "- Utilize loops to efficiently repeat tasks and process collections of data.\n",
    "- Define and use functions to create reusable blocks of code.\n",
    "\n",
    "---\n",
    "\n",
    "## Section 1: Conditional Statements\n",
    "\n",
    "Conditional statements are essential in programming as they allow you to control the flow of your code based on specific conditions. In Python, the most common conditional statements are:\n",
    "\n",
    "1. **`if` statement**\n",
    "2. **`if-else` statement**\n",
    "3. **`if-elif-else` statement**\n",
    "\n",
    "These structures enable your programs to make decisions and respond accordingly, making your code more dynamic and flexible.\n",
    "\n",
    "### 1.1 The `if` Statement\n",
    "\n",
    "The `if` statement is the simplest form of a conditional statement. It allows you to execute a block of code only if a specific condition is true. The syntax is straightforward:\n",
    "\n",
    "```python\n",
    "if condition:\n",
    "    # block of code\n",
    "```\n",
    "\n",
    "- **`condition`:** This is an expression that evaluates to either `True` or `False`.\n",
    "- If the `condition` is `True`, the block of code within the `if` statement is executed.\n",
    "- If the `condition` is `False`, the code block is skipped.\n",
    "\n",
    "**Example:**"
   ]
  },
  {
   "cell_type": "code",
   "execution_count": 1,
   "id": "a574bb72",
   "metadata": {},
   "outputs": [
    {
     "name": "stdout",
     "output_type": "stream",
     "text": [
      "x is greater than 5\n"
     ]
    }
   ],
   "source": [
    "x = 10\n",
    "\n",
    "if x > 5:\n",
    "    print(\"x is greater than 5\")"
   ]
  },
  {
   "cell_type": "markdown",
   "id": "2d77215a",
   "metadata": {},
   "source": [
    "### 1.2 The `if-else` Statement\n",
    "\n",
    "The `if-else` statement expands on the `if` statement by providing an alternative block of code to execute if the condition is false. This allows you to handle both possibilities:\n",
    "\n",
    "```python\n",
    "if condition:\n",
    "    # block of code for True condition\n",
    "else:\n",
    "    # block of code for False condition\n",
    "```\n",
    "\n",
    "- If the `condition` is `True`, the code inside the `if` block is executed.\n",
    "- If the `condition` is `False`, the code inside the `else` block is executed.\n",
    "\n",
    "**Example:**"
   ]
  },
  {
   "cell_type": "code",
   "execution_count": 2,
   "id": "6f2ec111",
   "metadata": {},
   "outputs": [
    {
     "name": "stdout",
     "output_type": "stream",
     "text": [
      "x is less than or equal to 5\n"
     ]
    }
   ],
   "source": [
    "x = 1\n",
    "\n",
    "if x > 5:\n",
    "    print(\"x is greater than 5\")\n",
    "else:\n",
    "    print(\"x is less than or equal to 5\")"
   ]
  },
  {
   "cell_type": "markdown",
   "id": "0a9c46f2",
   "metadata": {},
   "source": [
    "### 1.3 The `if-elif-else` Statement\n",
    "\n",
    "The `if-elif-else` statement is a more complex conditional structure that allows you to check multiple conditions sequentially. This is useful when you need to execute different blocks of code based on different conditions:\n",
    "\n",
    "```python\n",
    "if condition1:\n",
    "    # block of code for condition1\n",
    "elif condition2:\n",
    "    # block of code for condition2\n",
    "else:\n",
    "    # block of code if no conditions are True\n",
    "```\n",
    "\n",
    "- The `if` block is executed if `condition1` is `True`.\n",
    "- If `condition1` is `False` but `condition2` is `True`, the `elif` block is executed.\n",
    "- If none of the conditions are `True`, the `else` block is executed.\n",
    "\n",
    "**Example:**"
   ]
  },
  {
   "cell_type": "code",
   "execution_count": 3,
   "id": "c7b8ed73",
   "metadata": {},
   "outputs": [
    {
     "name": "stdout",
     "output_type": "stream",
     "text": [
      "x is equal to 5\n"
     ]
    }
   ],
   "source": [
    "x = 5\n",
    "\n",
    "if x > 5:\n",
    "    print(\"x is greater than 5\")\n",
    "elif x < 5:\n",
    "    print(\"x is less than 5\")\n",
    "else:\n",
    "    print(\"x is equal to 5\")"
   ]
  },
  {
   "cell_type": "markdown",
   "id": "0f3a3798",
   "metadata": {},
   "source": [
    "---\n",
    "\n",
    "## Section 2: Loops\n",
    "\n",
    "Loops are a fundamental concept in programming, allowing you to execute a block of code multiple times, which is especially useful when working with large datasets, repetitive tasks, or iterative processes. In Python, the two most common types of loops are:\n",
    "\n",
    "1. **`for` loop**\n",
    "2. **`while` loop**\n",
    "\n",
    "### 2.1 The `for` Loop\n",
    "\n",
    "The `for` loop is used to iterate over a sequence of elements, such as a list, tuple, string, or other iterable objects, and execute a block of code for each element. This makes it incredibly versatile for processing collections of data.\n",
    "\n",
    "**Syntax:**\n",
    "\n",
    "```python\n",
    "for element in sequence:\n",
    "    # block of code\n",
    "```\n",
    "\n",
    "- **`element`:** A variable that takes on the value of each element in the `sequence` one by one.\n",
    "- **`sequence`:** Any iterable object (e.g., list, tuple, string, range).\n",
    "\n",
    "**Example:**"
   ]
  },
  {
   "cell_type": "code",
   "execution_count": 4,
   "id": "94de4098",
   "metadata": {},
   "outputs": [
    {
     "name": "stdout",
     "output_type": "stream",
     "text": [
      "0\n",
      "1\n",
      "2\n",
      "3\n",
      "4\n"
     ]
    }
   ],
   "source": [
    "for i in range(5):\n",
    "    print(i)"
   ]
  },
  {
   "cell_type": "markdown",
   "id": "151b7f74",
   "metadata": {},
   "source": [
    "In this example, `range(5)` generates a sequence of numbers from `0` to `4`. The `for` loop iterates over this sequence, printing each number.\n",
    "\n",
    "#### Looping Through a List\n",
    "\n",
    "Lists are one of the most common data structures in Python. You can easily loop through a list using a `for` loop:"
   ]
  },
  {
   "cell_type": "code",
   "execution_count": 5,
   "id": "6883fbac",
   "metadata": {},
   "outputs": [
    {
     "name": "stdout",
     "output_type": "stream",
     "text": [
      "apple\n",
      "banana\n",
      "cherry\n"
     ]
    }
   ],
   "source": [
    "fruits = [\"apple\", \"banana\", \"cherry\"]\n",
    "\n",
    "for fruit in fruits:\n",
    "    print(fruit)"
   ]
  },
  {
   "cell_type": "markdown",
   "id": "a94562e1",
   "metadata": {},
   "source": [
    "Here, the `for` loop iterates over the list `fruits`, printing each fruit in the list.\n",
    "\n",
    "#### Looping Through a String\n",
    "\n",
    "Strings are also iterable, allowing you to loop through each character individually:"
   ]
  },
  {
   "cell_type": "code",
   "execution_count": 6,
   "id": "6fef1de0",
   "metadata": {},
   "outputs": [
    {
     "name": "stdout",
     "output_type": "stream",
     "text": [
      "h\n",
      "e\n",
      "l\n",
      "l\n",
      "o\n"
     ]
    }
   ],
   "source": [
    "for char in \"hello\":\n",
    "    print(char)"
   ]
  },
  {
   "cell_type": "markdown",
   "id": "78497686",
   "metadata": {},
   "source": [
    "This loop prints each character in the string `\"hello\"` on a new line.\n",
    "\n",
    "#### Looping Through a Dictionary\n",
    "\n",
    "````{margin}\n",
    "```{admonition} Lists vs. Dictionaries\n",
    "- **Lists** (`[]`): Ordered collections of items. Access elements by their position (index), e.g., `my_list[0]`.\n",
    "- **Dictionaries** (`{}`): Unordered collections of key-value pairs. Access elements by their key, e.g., `my_dict['key']`. Keys must be unique.\n",
    "```\n",
    "````\n",
    "\n",
    "Dictionaries are collections of key-value pairs, and you can loop through both the keys and values:"
   ]
  },
  {
   "cell_type": "code",
   "execution_count": 7,
   "id": "2813b763",
   "metadata": {},
   "outputs": [
    {
     "name": "stdout",
     "output_type": "stream",
     "text": [
      "name Alice\n",
      "age 30\n",
      "city New York\n"
     ]
    }
   ],
   "source": [
    "person = {\"name\": \"Alice\", \"age\": 30, \"city\": \"New York\"}\n",
    "\n",
    "for key, value in person.items():\n",
    "    print(key, value)"
   ]
  },
  {
   "cell_type": "markdown",
   "id": "410d5b37",
   "metadata": {},
   "source": [
    "In this example, the `for` loop iterates over each key-value pair in the dictionary `person`, printing both the key and its corresponding value.\n",
    "\n",
    "#### Looping Through a NumPy Array\n",
    "\n",
    "NumPy arrays are powerful structures for numerical computations. You can loop through them just like any other iterable:"
   ]
  },
  {
   "cell_type": "code",
   "execution_count": 8,
   "id": "d4fd4873",
   "metadata": {},
   "outputs": [
    {
     "ename": "ModuleNotFoundError",
     "evalue": "No module named 'numpy'",
     "output_type": "error",
     "traceback": [
      "\u001b[1;31m---------------------------------------------------------------------------\u001b[0m",
      "\u001b[1;31mModuleNotFoundError\u001b[0m                       Traceback (most recent call last)",
      "Cell \u001b[1;32mIn[8], line 1\u001b[0m\n\u001b[1;32m----> 1\u001b[0m \u001b[38;5;28;01mimport\u001b[39;00m\u001b[38;5;250m \u001b[39m\u001b[38;5;21;01mnumpy\u001b[39;00m\u001b[38;5;250m \u001b[39m\u001b[38;5;28;01mas\u001b[39;00m\u001b[38;5;250m \u001b[39m\u001b[38;5;21;01mnp\u001b[39;00m\n\u001b[0;32m      3\u001b[0m arr \u001b[38;5;241m=\u001b[39m np\u001b[38;5;241m.\u001b[39marray([\u001b[38;5;241m1\u001b[39m, \u001b[38;5;241m2\u001b[39m, \u001b[38;5;241m3\u001b[39m, \u001b[38;5;241m4\u001b[39m, \u001b[38;5;241m5\u001b[39m])\n\u001b[0;32m      5\u001b[0m \u001b[38;5;28;01mfor\u001b[39;00m element \u001b[38;5;129;01min\u001b[39;00m arr:\n",
      "\u001b[1;31mModuleNotFoundError\u001b[0m: No module named 'numpy'"
     ]
    }
   ],
   "source": [
    "import numpy as np\n",
    "\n",
    "arr = np.array([1, 2, 3, 4, 5])\n",
    "\n",
    "for element in arr:\n",
    "    print(element)"
   ]
  },
  {
   "cell_type": "markdown",
   "id": "46cfd69b",
   "metadata": {},
   "source": [
    "This example shows how to iterate over each element in a NumPy array.\n",
    "\n",
    "#### Looping Through a Pandas DataFrame\n",
    "\n",
    "Pandas DataFrames are used for handling tabular data. You can loop through each row of a DataFrame using `iterrows()`:"
   ]
  },
  {
   "cell_type": "code",
   "execution_count": null,
   "id": "7d9d19b5",
   "metadata": {},
   "outputs": [],
   "source": [
    "import pandas as pd\n",
    "\n",
    "data = {\"name\": [\"Alice\", \"Bob\", \"Charlie\"], \"age\": [30, 25, 35]}\n",
    "df = pd.DataFrame(data)\n",
    "\n",
    "for index, row in df.iterrows():\n",
    "    print(index, row[\"name\"], row[\"age\"])"
   ]
  },
  {
   "cell_type": "markdown",
   "id": "095a4f8d",
   "metadata": {},
   "source": [
    "Here, the loop iterates over each row in the DataFrame `df`, printing the index, name, and age for each row.\n",
    "\n",
    "```{admonition} Note\n",
    ":class: note\n",
    "When we use syntax like `df.iterrows()`, we're calling a **method** of the DataFrame object `df`. A method is like a function but is tied to an object (in this case, the DataFrame). The dot notation (`df.method_name()`) is used to call methods that perform specific actions on the object. So, `iterrows()` is a method of a DataFrame that returns an iterator over its rows, allowing you to loop through each row.\n",
    "```\n",
    "\n",
    "#### List Comprehensions\n",
    "\n",
    "List comprehensions provide a concise way to create lists by applying an expression to each element in an existing iterable. This is an elegant and Pythonic way to create new lists from existing data.\n",
    "\n",
    "**Syntax:**\n",
    "\n",
    "```python\n",
    "new_list = [expression for element in old_list]\n",
    "```\n",
    "\n",
    "**Example:**"
   ]
  },
  {
   "cell_type": "code",
   "execution_count": null,
   "id": "c7484d74",
   "metadata": {},
   "outputs": [],
   "source": [
    "squares = [x**2 for x in range(5)]\n",
    "print(squares)"
   ]
  },
  {
   "cell_type": "markdown",
   "id": "71a38b04",
   "metadata": {},
   "source": [
    "In this example, the list comprehension `[x**2 for x in range(5)]` creates a new list object, which is then assigned to the variable `squares`, containing the squares of each element in the range from `0` to `4`.\n",
    "\n",
    "### 2.2 The `while` Loop\n",
    "\n",
    "````{margin}\n",
    "```{admonition} Infinite Loops\n",
    "An infinite loop is a loop that never terminates. It can occur when the loop condition is always `True`, causing the loop to run indefinitely. To avoid infinite loops, ensure that the loop condition eventually becomes `False`.\n",
    "```\n",
    "````\n",
    "\n",
    "The `while` loop is used to execute a block of code as long as a specified condition is true. This type of loop is particularly useful when the number of iterations is not predetermined, but depends on a condition.\n",
    "\n",
    "**Syntax:**\n",
    "\n",
    "```python\n",
    "while condition:\n",
    "    # block of code\n",
    "```\n",
    "\n",
    "- **`condition`:** An expression that evaluates to either `True` or `False`.\n",
    "- The code block inside the `while` loop continues to execute as long as the `condition` is `True`.\n",
    "\n",
    "**Example:**"
   ]
  },
  {
   "cell_type": "code",
   "execution_count": null,
   "id": "45764099",
   "metadata": {},
   "outputs": [],
   "source": [
    "i = 0\n",
    "\n",
    "while i < 5:\n",
    "    print(i)\n",
    "    i += 1"
   ]
  },
  {
   "cell_type": "markdown",
   "id": "e91479ed",
   "metadata": {},
   "source": [
    "In this example, the variable `i` is initialized to `0`. The `while` loop executes the block of code repeatedly, printing the value of `i` and then incrementing `i` by `1` on each iteration, until `i` reaches `5`.\n",
    "\n",
    "```{admonition} Exercise\n",
    ":class: tip\n",
    "1. **What happens if you move `i = 0` inside the `while` loop block?**  \n",
    "   Try moving the line `i = 0` inside the `while` loop. What do you expect will happen, and why?\n",
    "   \n",
    "2. **What happens if you forget to include `i += 1` inside the loop?**  \n",
    "   What do you think will occur if you remove the line `i += 1` from the loop? Explain your reasoning and try running the code to see what happens.\n",
    "```\n",
    "\n",
    "---\n",
    "\n",
    "## Section 3: Functions\n",
    "\n",
    "Functions are a core component of Python programming, allowing you to encapsulate a block of code that performs a specific task. This modular approach helps make your code more organized, reusable, and easier to maintain. Functions in Python are defined using the `def` keyword, followed by the function name and a set of parentheses.\n",
    "\n",
    "### 3.1 Defining Functions\n",
    "\n",
    "The basic syntax for defining a function is as follows:\n",
    "\n",
    "```python\n",
    "def function_name(parameters):\n",
    "    # block of code\n",
    "    return value\n",
    "```\n",
    "\n",
    "- **`function_name`:** This is the name you give to your function, which should be descriptive of what the function does.\n",
    "- **`parameters`:** These are the inputs to the function. You can include multiple parameters, or none at all.\n",
    "- **`return value`:** The `return` statement is optional and is used to send back a value from the function to the caller. If you don't use `return`, the function will return `None` by default.\n",
    "\n",
    "**Example:**"
   ]
  },
  {
   "cell_type": "code",
   "execution_count": null,
   "id": "92b1d979",
   "metadata": {},
   "outputs": [],
   "source": [
    "def add(x, y):\n",
    "    return x + y\n",
    "\n",
    "result = add(3, 5)\n",
    "print(result)"
   ]
  },
  {
   "cell_type": "markdown",
   "id": "0a3e5735",
   "metadata": {},
   "source": [
    "In this example, we define a function `add` that takes two parameters, `x` and `y`, and returns their sum. When we call `add(3, 5)`, the function returns `8`, which is then printed.\n",
    "\n",
    "### 3.2 Functions with Default Parameter Values\n",
    "\n",
    "Functions can also have default values for their parameters, making some arguments optional when the function is called.\n",
    "\n",
    "**Example:**"
   ]
  },
  {
   "cell_type": "code",
   "execution_count": null,
   "id": "566d2088",
   "metadata": {},
   "outputs": [],
   "source": [
    "def greet(name=\"Alice\"):\n",
    "    return \"Hello, \" + name\n",
    "\n",
    "message = greet()\n",
    "print(message)"
   ]
  },
  {
   "cell_type": "markdown",
   "id": "aaec103f",
   "metadata": {},
   "source": [
    "In this example, the function `greet` has a default parameter `name=\"Alice\"`. When the function is called without providing an argument for `name`, it defaults to `\"Alice\"`, and the message \"Hello, Alice\" is printed.\n",
    "\n",
    "### 3.3 Lambda Functions\n",
    "\n",
    "Lambda functions are small, anonymous functions that are defined using the `lambda` keyword. Unlike regular functions defined with `def`, lambda functions can have any number of arguments but only one expression. They are often used for short, simple operations that are not reused elsewhere in your code.\n",
    "\n",
    "**Syntax:**\n",
    "\n",
    "```python\n",
    "lambda arguments: expression\n",
    "```\n",
    "\n",
    "**Example:**"
   ]
  },
  {
   "cell_type": "code",
   "execution_count": null,
   "id": "cb9f0e6c",
   "metadata": {},
   "outputs": [],
   "source": [
    "add = lambda x, y: x + y\n",
    "\n",
    "result = add(3, 5)\n",
    "print(result)"
   ]
  },
  {
   "cell_type": "markdown",
   "id": "d9893eae",
   "metadata": {},
   "source": [
    "Here, we define a lambda function `add` that takes two arguments, `x` and `y`, and returns their sum. The lambda function behaves like a regular function but is written in a more compact form.\n",
    "\n",
    "**Note:** `add` refers to the function itself, while `add(3, 5)` refers to the result of calling the function with the arguments `3` and `5`. In this case, `add(3, 5)` evaluates to `8`.\n",
    "\n",
    "### 3.4 Using Lambda Functions with Higher-Order Functions\n",
    "\n",
    "Lambda functions are frequently used as arguments to higher-order functions like `map()`, `filter()`, and `reduce()` because of their concise syntax.\n",
    "\n",
    "**Syntax of `map()`:**  \n",
    "`map(function, iterable)`\n",
    "\n",
    "Here, `function` is the operation to apply, and `iterable` is the collection of items that the function will be applied to.\n",
    "\n",
    "**Example with `map()`:**"
   ]
  },
  {
   "cell_type": "code",
   "execution_count": null,
   "id": "f9ea0926",
   "metadata": {},
   "outputs": [],
   "source": [
    "numbers = [1, 2, 3, 4]\n",
    "squares = list(map(lambda x: x**2, numbers))\n",
    "\n",
    "print(squares)"
   ]
  },
  {
   "cell_type": "markdown",
   "id": "75e1264d",
   "metadata": {},
   "source": [
    "In this example, `map()` applies the lambda function `lambda x: x**2` to each element of the `numbers` list, producing a list of squares.\n",
    "\n",
    "### 3.5 Using Lambda Functions with Pandas\n",
    "\n",
    "Lambda functions are also commonly used in Pandas to apply operations across elements in a DataFrame. This is particularly useful for creating new columns or transforming data.\n",
    "\n",
    "**Example:**"
   ]
  },
  {
   "cell_type": "code",
   "execution_count": null,
   "id": "873aec7a",
   "metadata": {},
   "outputs": [],
   "source": [
    "import pandas as pd\n",
    "\n",
    "data = {\"name\": [\"Alice\", \"Bob\", \"Charlie\"], \"age\": [30, 25, 35]}\n",
    "df = pd.DataFrame(data)\n",
    "\n",
    "df[\"age_squared\"] = df[\"age\"].apply(lambda x: x**2)\n",
    "\n",
    "print(df)"
   ]
  },
  {
   "cell_type": "markdown",
   "id": "9d3f3ae8",
   "metadata": {},
   "source": [
    "In this example, a Pandas DataFrame `df` is created with columns `name` and `age`. The `apply()` method is used to apply a lambda function that squares each element in the `age` column. The result is stored in a new column, `age_squared`.\n",
    "\n",
    "### 3.6 Best Practices for Using Functions\n",
    "\n",
    "1. **Use Descriptive Names:** Function names should clearly describe what the function does.\n",
    "2. **Keep Functions Small and Focused:** A function should do one thing and do it well. If your function is getting too long, consider breaking it up into smaller functions.\n",
    "3. **Document Your Functions:** Use docstrings to explain what your function does, what parameters it takes, and what it returns.\n",
    "\n",
    "**Example of a Well-Documented Function:**\n",
    "\n",
    "```python\n",
    "def calculate_area(radius):\n",
    "    \"\"\"\n",
    "    Calculate the area of a circle given its radius.\n",
    "\n",
    "    Parameters:\n",
    "    radius (float): The radius of the circle.\n",
    "\n",
    "    Returns:\n",
    "    float: The area of the circle.\n",
    "    \"\"\"\n",
    "    return 3.14159 * radius ** 2\n",
    "```\n",
    "\n",
    "In this example, the function `calculate_area` is well-documented with a docstring that explains what the function does, its parameters, and its return value.\n",
    "\n",
    "---\n",
    "\n",
    "## Section 4: Hands-on Practice\n",
    "\n",
    "Now that you've learned about control structures in Python, it's time to put your knowledge into practice. Below are a series of exercises designed to help reinforce the concepts you've covered. Each exercise includes a hint to guide you if you need a little help getting started.\n",
    "\n",
    "### Exercise 1: Check if a Number is Even or Odd\n",
    "\n",
    "```{admonition} Exercise 1\n",
    ":class: exercise\n",
    "Write a Python program to check whether a given number is even or odd.\n",
    "```\n",
    "\n",
    "```{dropdown} Hint\n",
    "Use the modulo operator `%` to check if the number is divisible by `2`. If `number % 2 == 0`, the number is even; otherwise, it's odd.\n",
    "```\n",
    "\n",
    "### Exercise 2: Sum of All Numbers in a List\n",
    "\n",
    "```{admonition} Exercise 2\n",
    ":class: exercise\n",
    "Write a Python program to find the sum of all the numbers in a list.\n",
    "```\n",
    "\n",
    "```{dropdown} Hint\n",
    "Use a `for` loop to iterate over the elements in the list and accumulate the sum in a variable.\n",
    "```\n",
    "\n",
    "### Exercise 3: Factorial of a Number\n",
    "\n",
    "```{admonition} Exercise 3\n",
    ":class: exercise\n",
    "Write a Python program to calculate the factorial of a given number.\n",
    "```\n",
    "\n",
    "```{dropdown} Hint\n",
    "Use a `for` loop to iterate from `1` to `n`, multiplying the numbers together to calculate the factorial.\n",
    "```\n",
    "\n",
    "### Exercise 4: Check if a String is a Palindrome\n",
    "\n",
    "```{admonition} Exercise 4\n",
    ":class: exercise\n",
    "Write a Python program to check if a given string is a palindrome.\n",
    "```\n",
    "\n",
    "```{dropdown} Hint\n",
    "A palindrome reads the same forward and backward. Use string slicing to reverse the string and compare it to the original.\n",
    "```\n",
    "\n",
    "### Exercise 5: Find the Maximum and Minimum Elements in a List\n",
    "\n",
    "```{admonition} Exercise 5\n",
    ":class: exercise\n",
    "Write a Python program to find the maximum and minimum elements in a list.\n",
    "```\n",
    "\n",
    "```{dropdown} Hint\n",
    "Use the built-in `max()` and `min()` functions to find the maximum and minimum values in the list.\n",
    "```\n",
    "\n",
    "---\n",
    "\n",
    "### Additional Exercises\n",
    "\n",
    "If you're looking to challenge yourself further, here are a few more exercises to practice your Python skills:\n",
    "\n",
    "1. **Exercise 6: Count the Number of Vowels in a String**  \n",
    "   Write a Python program to count the number of vowels (`a, e, i, o, u`) in a given string.\n",
    "\n",
    "   ```{dropdown} Hint\n",
    "   Use a `for` loop to iterate over each character in the string and check if it's a vowel using the `in` operator.\n",
    "   ```\n",
    "\n",
    "2. **Exercise 7: Merge Two Lists and Remove Duplicates**  \n",
    "   Write a Python program to merge two lists and remove any duplicate elements.\n",
    "\n",
    "   ```{dropdown} Hint\n",
    "   Combine the lists using the `+` operator, then convert the result to a `set` to remove duplicates before converting it back to a list.\n",
    "   ```\n",
    "\n",
    "3. **Exercise 8: Generate Fibonacci Sequence**  \n",
    "   Write a Python program to generate the first `n` numbers of the Fibonacci sequence.\n",
    "\n",
    "   ```{dropdown} Hint\n",
    "   Use a `while` loop or a `for` loop to generate the sequence, starting with `0` and `1`, and adding the last two numbers to get the next number.\n",
    "   ```\n",
    "\n",
    "---\n",
    "\n",
    "Feel free to explore these exercises further, and don’t hesitate to experiment with your own ideas. If you have any questions or need clarification, feel free to discuss them in the Slack channel. The more you practice, the more confident you’ll become in your Python programming skills. Good luck!"
   ]
  }
 ],
 "metadata": {
  "jupytext": {
   "text_representation": {
    "extension": ".md",
    "format_name": "myst",
    "format_version": 0.13,
    "jupytext_version": "1.16.4"
   }
  },
  "kernelspec": {
   "display_name": "comp-prob-solv",
   "language": "python",
   "name": "python3"
  },
  "language_info": {
   "codemirror_mode": {
    "name": "ipython",
    "version": 3
   },
   "file_extension": ".py",
   "mimetype": "text/x-python",
   "name": "python",
   "nbconvert_exporter": "python",
   "pygments_lexer": "ipython3",
   "version": "3.10.18"
  },
  "source_map": [
   12,
   73,
   78,
   96,
   103,
   124,
   133,
   160,
   163,
   171,
   176,
   184,
   187,
   202,
   207,
   215,
   222,
   230,
   238,
   259,
   262,
   288,
   294,
   329,
   335,
   345,
   351,
   367,
   372,
   389,
   394,
   404,
   413
  ]
 },
 "nbformat": 4,
 "nbformat_minor": 5
}